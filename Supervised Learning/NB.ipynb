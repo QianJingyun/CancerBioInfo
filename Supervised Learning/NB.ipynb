{
 "cells": [
  {
   "cell_type": "code",
   "execution_count": 1,
   "id": "340d4f43-6f4a-464d-834f-756b6c55d36c",
   "metadata": {},
   "outputs": [],
   "source": [
    "import pandas as pd\n",
    "import numpy as np\n",
    "import matplotlib.pyplot as plt\n",
    "from matplotlib.colors import ListedColormap\n",
    "from sklearn.naive_bayes import GaussianNB\n",
    "from sklearn import metrics\n",
    "from sklearn.model_selection import cross_val_score, KFold, cross_val_predict\n",
    "from sklearn.metrics import confusion_matrix, matthews_corrcoef\n",
    "from sklearn.model_selection import train_test_split\n",
    "from sklearn.feature_selection import f_classif"
   ]
  },
  {
   "cell_type": "markdown",
   "id": "7871241a-34f2-4b69-8888-2a2204f861e1",
   "metadata": {},
   "source": [
    "In this file, we will contexualize K mean clustering and demonstrate why it's necessary to reduce features"
   ]
  },
  {
   "cell_type": "code",
   "execution_count": 2,
   "id": "448e2733-bfcc-4f4e-a04c-5e394e494f1a",
   "metadata": {},
   "outputs": [],
   "source": [
    "# load data file\n",
    "data = pd.read_csv('/home/DAVIDSON/jiqian/Workspace/IS/CancerBioInfo/Data Processing/data_processed.csv')"
   ]
  },
  {
   "cell_type": "code",
   "execution_count": 3,
   "id": "0650ac2e-83f4-4e04-9866-3c6bbeb99da6",
   "metadata": {},
   "outputs": [],
   "source": [
    "label = data['PATH_N_STAGE']"
   ]
  },
  {
   "cell_type": "markdown",
   "id": "7a848847-791f-40e9-818a-7225c9980ca4",
   "metadata": {},
   "source": [
    "### Run ANOVA F-value"
   ]
  },
  {
   "cell_type": "code",
   "execution_count": 4,
   "id": "f1ba56ba-5aa9-4638-8987-509cd94d7711",
   "metadata": {},
   "outputs": [],
   "source": [
    "f_values, p_values = f_classif(data.iloc[:,1:],data['PATH_N_STAGE'])\n",
    "f_pd = pd.DataFrame(f_values, columns = ['F-value'])"
   ]
  },
  {
   "cell_type": "code",
   "execution_count": 5,
   "id": "7daefba5-c06c-4d3d-9fe9-1020ebe422bb",
   "metadata": {},
   "outputs": [],
   "source": [
    "# create a new dataframe with the feature names and F-values\n",
    "fnf = pd.DataFrame({'feature': data.iloc[:,1:].columns, 'F-value': f_values})\n",
    "\n",
    "# sort the dataframe in descending order based on the F-values\n",
    "sorted_fnf = fnf.sort_values('F-value', ascending=False)\n",
    "\n",
    "columns = sorted_fnf['feature']\n",
    "\n",
    "selected = data[columns]\n",
    "data = selected\n",
    "data[\"PATH_N_STAGE\"] = label"
   ]
  },
  {
   "cell_type": "markdown",
   "id": "e6db46c4-2ab1-4227-b803-f6145a651440",
   "metadata": {},
   "source": [
    "### Split data into train set and test set"
   ]
  },
  {
   "cell_type": "code",
   "execution_count": 6,
   "id": "81fc54e9-d7f1-45d0-954c-da3980d1631d",
   "metadata": {},
   "outputs": [],
   "source": [
    "# Split the data into 80%/20%\n",
    "data_train, data_test = train_test_split(data, test_size = 0.2, random_state=42)\n",
    "data_train = data_train.reset_index(drop = True)\n",
    "data_test = data_test.reset_index(drop = True)"
   ]
  },
  {
   "cell_type": "code",
   "execution_count": 7,
   "id": "1913c005-8824-4242-acca-efb411c20692",
   "metadata": {},
   "outputs": [],
   "source": [
    "X = data_train.iloc[:,:data.shape[1]-1]\n",
    "y = data_train['PATH_N_STAGE']\n",
    "X_test = data_test.iloc[:,:data.shape[1]-1]\n",
    "y_test = data_test['PATH_N_STAGE']"
   ]
  },
  {
   "cell_type": "markdown",
   "id": "270cb6eb-6680-4781-9ed4-0fdb1e0ad23d",
   "metadata": {},
   "source": [
    "### Run ANOVA F-value again\n",
    "\n",
    "This move recalculate ANOVA F-value for all features so that the order of the features to include in the model best reflect difference between groups instead of within group."
   ]
  },
  {
   "cell_type": "code",
   "execution_count": 8,
   "id": "20f31527-cd68-483d-9b0e-1c0281ac9116",
   "metadata": {},
   "outputs": [],
   "source": [
    "f_values, p_values = f_classif(X,y)\n",
    "f_pd = pd.DataFrame(f_values, columns = ['F-value'])"
   ]
  },
  {
   "cell_type": "code",
   "execution_count": 9,
   "id": "7c28635f-a8e1-4fc0-82ff-2dc26a01c90c",
   "metadata": {},
   "outputs": [
    {
     "data": {
      "text/html": [
       "<div>\n",
       "<style scoped>\n",
       "    .dataframe tbody tr th:only-of-type {\n",
       "        vertical-align: middle;\n",
       "    }\n",
       "\n",
       "    .dataframe tbody tr th {\n",
       "        vertical-align: top;\n",
       "    }\n",
       "\n",
       "    .dataframe thead th {\n",
       "        text-align: right;\n",
       "    }\n",
       "</style>\n",
       "<table border=\"1\" class=\"dataframe\">\n",
       "  <thead>\n",
       "    <tr style=\"text-align: right;\">\n",
       "      <th></th>\n",
       "      <th>M_C16ORF91</th>\n",
       "      <th>M_CTNNAL1</th>\n",
       "      <th>M_MAP6D1</th>\n",
       "      <th>M_HIST1H2AK</th>\n",
       "      <th>M_ASH1L-AS1</th>\n",
       "      <th>M_HIST1H3J</th>\n",
       "      <th>M_SPATA46</th>\n",
       "      <th>M_GOLGA1</th>\n",
       "      <th>M_PRSS27</th>\n",
       "      <th>M_HIST1H2BN</th>\n",
       "      <th>...</th>\n",
       "      <th>M_RAD9A</th>\n",
       "      <th>M_RPA4</th>\n",
       "      <th>M_BBC3</th>\n",
       "      <th>M_HOTAIR</th>\n",
       "      <th>M_DUX4L6</th>\n",
       "      <th>M_KISS1R</th>\n",
       "      <th>M_KCNJ9</th>\n",
       "      <th>M_PIGL</th>\n",
       "      <th>M_LOC100129935</th>\n",
       "      <th>M_OR10G9</th>\n",
       "    </tr>\n",
       "  </thead>\n",
       "  <tbody>\n",
       "    <tr>\n",
       "      <th>0</th>\n",
       "      <td>0.8792</td>\n",
       "      <td>-0.0361</td>\n",
       "      <td>-0.3510</td>\n",
       "      <td>-0.3868</td>\n",
       "      <td>0.0693</td>\n",
       "      <td>-0.2442</td>\n",
       "      <td>-0.6439</td>\n",
       "      <td>0.8551</td>\n",
       "      <td>0.1356</td>\n",
       "      <td>1.2886</td>\n",
       "      <td>...</td>\n",
       "      <td>0.4958</td>\n",
       "      <td>-0.2268</td>\n",
       "      <td>-0.2790</td>\n",
       "      <td>-0.1641</td>\n",
       "      <td>5.0093</td>\n",
       "      <td>-0.1309</td>\n",
       "      <td>3.4446</td>\n",
       "      <td>0.3162</td>\n",
       "      <td>-0.0489</td>\n",
       "      <td>-0.0504</td>\n",
       "    </tr>\n",
       "    <tr>\n",
       "      <th>1</th>\n",
       "      <td>1.1363</td>\n",
       "      <td>-0.2450</td>\n",
       "      <td>-0.2738</td>\n",
       "      <td>-0.1765</td>\n",
       "      <td>0.3303</td>\n",
       "      <td>0.3021</td>\n",
       "      <td>0.2213</td>\n",
       "      <td>0.1103</td>\n",
       "      <td>-0.0034</td>\n",
       "      <td>-0.7416</td>\n",
       "      <td>...</td>\n",
       "      <td>-0.4151</td>\n",
       "      <td>-0.1522</td>\n",
       "      <td>1.4193</td>\n",
       "      <td>2.6129</td>\n",
       "      <td>-0.1881</td>\n",
       "      <td>-0.2389</td>\n",
       "      <td>1.4233</td>\n",
       "      <td>-0.0742</td>\n",
       "      <td>-0.0489</td>\n",
       "      <td>-0.0504</td>\n",
       "    </tr>\n",
       "    <tr>\n",
       "      <th>2</th>\n",
       "      <td>-0.7364</td>\n",
       "      <td>-0.3339</td>\n",
       "      <td>-1.1468</td>\n",
       "      <td>-0.1550</td>\n",
       "      <td>0.1437</td>\n",
       "      <td>-0.6287</td>\n",
       "      <td>-0.6439</td>\n",
       "      <td>-0.7200</td>\n",
       "      <td>-0.2643</td>\n",
       "      <td>-0.3989</td>\n",
       "      <td>...</td>\n",
       "      <td>-0.2748</td>\n",
       "      <td>-0.1527</td>\n",
       "      <td>0.1968</td>\n",
       "      <td>-0.3996</td>\n",
       "      <td>-0.1881</td>\n",
       "      <td>-0.1954</td>\n",
       "      <td>-0.7553</td>\n",
       "      <td>-0.1914</td>\n",
       "      <td>-0.0489</td>\n",
       "      <td>-0.0504</td>\n",
       "    </tr>\n",
       "    <tr>\n",
       "      <th>3</th>\n",
       "      <td>-0.9999</td>\n",
       "      <td>-1.2376</td>\n",
       "      <td>-0.4907</td>\n",
       "      <td>-0.2636</td>\n",
       "      <td>-0.2875</td>\n",
       "      <td>-0.6287</td>\n",
       "      <td>3.5319</td>\n",
       "      <td>0.7420</td>\n",
       "      <td>0.0393</td>\n",
       "      <td>-1.5120</td>\n",
       "      <td>...</td>\n",
       "      <td>-0.3144</td>\n",
       "      <td>-0.5817</td>\n",
       "      <td>-0.6945</td>\n",
       "      <td>0.3986</td>\n",
       "      <td>-0.1881</td>\n",
       "      <td>-0.2389</td>\n",
       "      <td>0.7469</td>\n",
       "      <td>0.5225</td>\n",
       "      <td>-0.0489</td>\n",
       "      <td>-0.0504</td>\n",
       "    </tr>\n",
       "    <tr>\n",
       "      <th>4</th>\n",
       "      <td>2.6742</td>\n",
       "      <td>-0.2704</td>\n",
       "      <td>-0.6972</td>\n",
       "      <td>-0.7952</td>\n",
       "      <td>-0.2508</td>\n",
       "      <td>-0.6287</td>\n",
       "      <td>-0.6439</td>\n",
       "      <td>-0.4717</td>\n",
       "      <td>-0.6117</td>\n",
       "      <td>-0.6322</td>\n",
       "      <td>...</td>\n",
       "      <td>0.9930</td>\n",
       "      <td>0.0924</td>\n",
       "      <td>-0.6307</td>\n",
       "      <td>1.0482</td>\n",
       "      <td>-0.1881</td>\n",
       "      <td>-0.1363</td>\n",
       "      <td>-0.1854</td>\n",
       "      <td>-0.6224</td>\n",
       "      <td>-0.0489</td>\n",
       "      <td>-0.0504</td>\n",
       "    </tr>\n",
       "    <tr>\n",
       "      <th>...</th>\n",
       "      <td>...</td>\n",
       "      <td>...</td>\n",
       "      <td>...</td>\n",
       "      <td>...</td>\n",
       "      <td>...</td>\n",
       "      <td>...</td>\n",
       "      <td>...</td>\n",
       "      <td>...</td>\n",
       "      <td>...</td>\n",
       "      <td>...</td>\n",
       "      <td>...</td>\n",
       "      <td>...</td>\n",
       "      <td>...</td>\n",
       "      <td>...</td>\n",
       "      <td>...</td>\n",
       "      <td>...</td>\n",
       "      <td>...</td>\n",
       "      <td>...</td>\n",
       "      <td>...</td>\n",
       "      <td>...</td>\n",
       "      <td>...</td>\n",
       "    </tr>\n",
       "    <tr>\n",
       "      <th>328</th>\n",
       "      <td>-1.3892</td>\n",
       "      <td>0.2992</td>\n",
       "      <td>-0.8179</td>\n",
       "      <td>-0.3634</td>\n",
       "      <td>-0.8512</td>\n",
       "      <td>-0.0060</td>\n",
       "      <td>0.5137</td>\n",
       "      <td>0.3913</td>\n",
       "      <td>-0.5895</td>\n",
       "      <td>-0.2057</td>\n",
       "      <td>...</td>\n",
       "      <td>-0.7982</td>\n",
       "      <td>-0.2943</td>\n",
       "      <td>-0.5631</td>\n",
       "      <td>-0.4145</td>\n",
       "      <td>-0.1881</td>\n",
       "      <td>-0.2098</td>\n",
       "      <td>-0.1075</td>\n",
       "      <td>-0.6982</td>\n",
       "      <td>-0.0489</td>\n",
       "      <td>-0.0504</td>\n",
       "    </tr>\n",
       "    <tr>\n",
       "      <th>329</th>\n",
       "      <td>-0.6168</td>\n",
       "      <td>-0.5563</td>\n",
       "      <td>0.1017</td>\n",
       "      <td>-0.1894</td>\n",
       "      <td>0.1920</td>\n",
       "      <td>-0.6287</td>\n",
       "      <td>0.3637</td>\n",
       "      <td>0.0425</td>\n",
       "      <td>0.3491</td>\n",
       "      <td>-0.9687</td>\n",
       "      <td>...</td>\n",
       "      <td>0.1278</td>\n",
       "      <td>-0.4566</td>\n",
       "      <td>-0.7463</td>\n",
       "      <td>0.1092</td>\n",
       "      <td>-0.1881</td>\n",
       "      <td>-0.2008</td>\n",
       "      <td>-0.3324</td>\n",
       "      <td>0.3953</td>\n",
       "      <td>-0.0489</td>\n",
       "      <td>-0.0504</td>\n",
       "    </tr>\n",
       "    <tr>\n",
       "      <th>330</th>\n",
       "      <td>0.8713</td>\n",
       "      <td>1.3086</td>\n",
       "      <td>0.9111</td>\n",
       "      <td>1.4000</td>\n",
       "      <td>1.0178</td>\n",
       "      <td>-0.1033</td>\n",
       "      <td>-0.6439</td>\n",
       "      <td>3.4720</td>\n",
       "      <td>0.5115</td>\n",
       "      <td>0.9060</td>\n",
       "      <td>...</td>\n",
       "      <td>1.6843</td>\n",
       "      <td>0.0245</td>\n",
       "      <td>-0.1362</td>\n",
       "      <td>-0.3681</td>\n",
       "      <td>3.3634</td>\n",
       "      <td>-0.0913</td>\n",
       "      <td>-0.7553</td>\n",
       "      <td>1.8720</td>\n",
       "      <td>-0.0489</td>\n",
       "      <td>-0.0504</td>\n",
       "    </tr>\n",
       "    <tr>\n",
       "      <th>331</th>\n",
       "      <td>-1.1250</td>\n",
       "      <td>1.3591</td>\n",
       "      <td>-0.6607</td>\n",
       "      <td>-0.1890</td>\n",
       "      <td>-0.9390</td>\n",
       "      <td>0.5643</td>\n",
       "      <td>1.0194</td>\n",
       "      <td>-0.5864</td>\n",
       "      <td>-0.4240</td>\n",
       "      <td>-0.0317</td>\n",
       "      <td>...</td>\n",
       "      <td>-1.1615</td>\n",
       "      <td>-0.4441</td>\n",
       "      <td>-0.6757</td>\n",
       "      <td>-0.4448</td>\n",
       "      <td>-0.1881</td>\n",
       "      <td>-0.2389</td>\n",
       "      <td>-0.7553</td>\n",
       "      <td>-0.8009</td>\n",
       "      <td>-0.0489</td>\n",
       "      <td>-0.0504</td>\n",
       "    </tr>\n",
       "    <tr>\n",
       "      <th>332</th>\n",
       "      <td>-0.3876</td>\n",
       "      <td>0.3343</td>\n",
       "      <td>-0.7292</td>\n",
       "      <td>-0.4921</td>\n",
       "      <td>-0.5457</td>\n",
       "      <td>-0.6287</td>\n",
       "      <td>-0.1611</td>\n",
       "      <td>-0.2951</td>\n",
       "      <td>-0.3062</td>\n",
       "      <td>-0.7808</td>\n",
       "      <td>...</td>\n",
       "      <td>0.8837</td>\n",
       "      <td>-0.5817</td>\n",
       "      <td>0.2110</td>\n",
       "      <td>-0.3310</td>\n",
       "      <td>-0.1881</td>\n",
       "      <td>-0.2389</td>\n",
       "      <td>-0.3500</td>\n",
       "      <td>-0.5502</td>\n",
       "      <td>-0.0489</td>\n",
       "      <td>-0.0504</td>\n",
       "    </tr>\n",
       "  </tbody>\n",
       "</table>\n",
       "<p>333 rows × 3816 columns</p>\n",
       "</div>"
      ],
      "text/plain": [
       "     M_C16ORF91  M_CTNNAL1  M_MAP6D1  M_HIST1H2AK  M_ASH1L-AS1  M_HIST1H3J  \\\n",
       "0        0.8792    -0.0361   -0.3510      -0.3868       0.0693     -0.2442   \n",
       "1        1.1363    -0.2450   -0.2738      -0.1765       0.3303      0.3021   \n",
       "2       -0.7364    -0.3339   -1.1468      -0.1550       0.1437     -0.6287   \n",
       "3       -0.9999    -1.2376   -0.4907      -0.2636      -0.2875     -0.6287   \n",
       "4        2.6742    -0.2704   -0.6972      -0.7952      -0.2508     -0.6287   \n",
       "..          ...        ...       ...          ...          ...         ...   \n",
       "328     -1.3892     0.2992   -0.8179      -0.3634      -0.8512     -0.0060   \n",
       "329     -0.6168    -0.5563    0.1017      -0.1894       0.1920     -0.6287   \n",
       "330      0.8713     1.3086    0.9111       1.4000       1.0178     -0.1033   \n",
       "331     -1.1250     1.3591   -0.6607      -0.1890      -0.9390      0.5643   \n",
       "332     -0.3876     0.3343   -0.7292      -0.4921      -0.5457     -0.6287   \n",
       "\n",
       "     M_SPATA46  M_GOLGA1  M_PRSS27  M_HIST1H2BN  ...  M_RAD9A  M_RPA4  M_BBC3  \\\n",
       "0      -0.6439    0.8551    0.1356       1.2886  ...   0.4958 -0.2268 -0.2790   \n",
       "1       0.2213    0.1103   -0.0034      -0.7416  ...  -0.4151 -0.1522  1.4193   \n",
       "2      -0.6439   -0.7200   -0.2643      -0.3989  ...  -0.2748 -0.1527  0.1968   \n",
       "3       3.5319    0.7420    0.0393      -1.5120  ...  -0.3144 -0.5817 -0.6945   \n",
       "4      -0.6439   -0.4717   -0.6117      -0.6322  ...   0.9930  0.0924 -0.6307   \n",
       "..         ...       ...       ...          ...  ...      ...     ...     ...   \n",
       "328     0.5137    0.3913   -0.5895      -0.2057  ...  -0.7982 -0.2943 -0.5631   \n",
       "329     0.3637    0.0425    0.3491      -0.9687  ...   0.1278 -0.4566 -0.7463   \n",
       "330    -0.6439    3.4720    0.5115       0.9060  ...   1.6843  0.0245 -0.1362   \n",
       "331     1.0194   -0.5864   -0.4240      -0.0317  ...  -1.1615 -0.4441 -0.6757   \n",
       "332    -0.1611   -0.2951   -0.3062      -0.7808  ...   0.8837 -0.5817  0.2110   \n",
       "\n",
       "     M_HOTAIR  M_DUX4L6  M_KISS1R  M_KCNJ9  M_PIGL  M_LOC100129935  M_OR10G9  \n",
       "0     -0.1641    5.0093   -0.1309   3.4446  0.3162         -0.0489   -0.0504  \n",
       "1      2.6129   -0.1881   -0.2389   1.4233 -0.0742         -0.0489   -0.0504  \n",
       "2     -0.3996   -0.1881   -0.1954  -0.7553 -0.1914         -0.0489   -0.0504  \n",
       "3      0.3986   -0.1881   -0.2389   0.7469  0.5225         -0.0489   -0.0504  \n",
       "4      1.0482   -0.1881   -0.1363  -0.1854 -0.6224         -0.0489   -0.0504  \n",
       "..        ...       ...       ...      ...     ...             ...       ...  \n",
       "328   -0.4145   -0.1881   -0.2098  -0.1075 -0.6982         -0.0489   -0.0504  \n",
       "329    0.1092   -0.1881   -0.2008  -0.3324  0.3953         -0.0489   -0.0504  \n",
       "330   -0.3681    3.3634   -0.0913  -0.7553  1.8720         -0.0489   -0.0504  \n",
       "331   -0.4448   -0.1881   -0.2389  -0.7553 -0.8009         -0.0489   -0.0504  \n",
       "332   -0.3310   -0.1881   -0.2389  -0.3500 -0.5502         -0.0489   -0.0504  \n",
       "\n",
       "[333 rows x 3816 columns]"
      ]
     },
     "execution_count": 9,
     "metadata": {},
     "output_type": "execute_result"
    }
   ],
   "source": [
    "# create a new dataframe with the feature names and F-values\n",
    "fnf = pd.DataFrame({'feature': X.columns, 'F-value': f_values})\n",
    "\n",
    "# sort the dataframe in descending order based on the F-values\n",
    "sorted_fnf = fnf.sort_values('F-value', ascending=False)\n",
    "\n",
    "columns = sorted_fnf['feature']\n",
    "\n",
    "selected = X[columns]\n",
    "X = selected\n",
    "X"
   ]
  },
  {
   "cell_type": "markdown",
   "id": "d8515a21-eb5b-407e-8c7c-ed2bf9441e31",
   "metadata": {},
   "source": [
    "### Gaussian Naive Bayesian Classificaiton"
   ]
  },
  {
   "cell_type": "markdown",
   "id": "6aa35b07-27c6-4132-973c-d8560b57d491",
   "metadata": {},
   "source": [
    "Naive Bayesian Classificaiton is a probabilistic supervised classification method that could classify the different groups based on Bayes' theorem.\n",
    "\n",
    "To find the best set of variables to drive supervised machine learning model, the paper used NB classification.\n",
    "\n",
    "As it is shown in Fig. S1 from the paper. **The best results for K-means clustering were obtained with 1000-variables set.**"
   ]
  },
  {
   "cell_type": "markdown",
   "id": "e3b80bb4-a59d-4a2f-ab96-6264c41b07dd",
   "metadata": {},
   "source": [
    "#### 1. NB classification for all features"
   ]
  },
  {
   "cell_type": "code",
   "execution_count": 10,
   "id": "5424c63b-7f29-4977-ae1d-19ca54bc8ed0",
   "metadata": {},
   "outputs": [
    {
     "data": {
      "text/html": [
       "<style>#sk-container-id-1 {color: black;background-color: white;}#sk-container-id-1 pre{padding: 0;}#sk-container-id-1 div.sk-toggleable {background-color: white;}#sk-container-id-1 label.sk-toggleable__label {cursor: pointer;display: block;width: 100%;margin-bottom: 0;padding: 0.3em;box-sizing: border-box;text-align: center;}#sk-container-id-1 label.sk-toggleable__label-arrow:before {content: \"▸\";float: left;margin-right: 0.25em;color: #696969;}#sk-container-id-1 label.sk-toggleable__label-arrow:hover:before {color: black;}#sk-container-id-1 div.sk-estimator:hover label.sk-toggleable__label-arrow:before {color: black;}#sk-container-id-1 div.sk-toggleable__content {max-height: 0;max-width: 0;overflow: hidden;text-align: left;background-color: #f0f8ff;}#sk-container-id-1 div.sk-toggleable__content pre {margin: 0.2em;color: black;border-radius: 0.25em;background-color: #f0f8ff;}#sk-container-id-1 input.sk-toggleable__control:checked~div.sk-toggleable__content {max-height: 200px;max-width: 100%;overflow: auto;}#sk-container-id-1 input.sk-toggleable__control:checked~label.sk-toggleable__label-arrow:before {content: \"▾\";}#sk-container-id-1 div.sk-estimator input.sk-toggleable__control:checked~label.sk-toggleable__label {background-color: #d4ebff;}#sk-container-id-1 div.sk-label input.sk-toggleable__control:checked~label.sk-toggleable__label {background-color: #d4ebff;}#sk-container-id-1 input.sk-hidden--visually {border: 0;clip: rect(1px 1px 1px 1px);clip: rect(1px, 1px, 1px, 1px);height: 1px;margin: -1px;overflow: hidden;padding: 0;position: absolute;width: 1px;}#sk-container-id-1 div.sk-estimator {font-family: monospace;background-color: #f0f8ff;border: 1px dotted black;border-radius: 0.25em;box-sizing: border-box;margin-bottom: 0.5em;}#sk-container-id-1 div.sk-estimator:hover {background-color: #d4ebff;}#sk-container-id-1 div.sk-parallel-item::after {content: \"\";width: 100%;border-bottom: 1px solid gray;flex-grow: 1;}#sk-container-id-1 div.sk-label:hover label.sk-toggleable__label {background-color: #d4ebff;}#sk-container-id-1 div.sk-serial::before {content: \"\";position: absolute;border-left: 1px solid gray;box-sizing: border-box;top: 0;bottom: 0;left: 50%;z-index: 0;}#sk-container-id-1 div.sk-serial {display: flex;flex-direction: column;align-items: center;background-color: white;padding-right: 0.2em;padding-left: 0.2em;position: relative;}#sk-container-id-1 div.sk-item {position: relative;z-index: 1;}#sk-container-id-1 div.sk-parallel {display: flex;align-items: stretch;justify-content: center;background-color: white;position: relative;}#sk-container-id-1 div.sk-item::before, #sk-container-id-1 div.sk-parallel-item::before {content: \"\";position: absolute;border-left: 1px solid gray;box-sizing: border-box;top: 0;bottom: 0;left: 50%;z-index: -1;}#sk-container-id-1 div.sk-parallel-item {display: flex;flex-direction: column;z-index: 1;position: relative;background-color: white;}#sk-container-id-1 div.sk-parallel-item:first-child::after {align-self: flex-end;width: 50%;}#sk-container-id-1 div.sk-parallel-item:last-child::after {align-self: flex-start;width: 50%;}#sk-container-id-1 div.sk-parallel-item:only-child::after {width: 0;}#sk-container-id-1 div.sk-dashed-wrapped {border: 1px dashed gray;margin: 0 0.4em 0.5em 0.4em;box-sizing: border-box;padding-bottom: 0.4em;background-color: white;}#sk-container-id-1 div.sk-label label {font-family: monospace;font-weight: bold;display: inline-block;line-height: 1.2em;}#sk-container-id-1 div.sk-label-container {text-align: center;}#sk-container-id-1 div.sk-container {/* jupyter's `normalize.less` sets `[hidden] { display: none; }` but bootstrap.min.css set `[hidden] { display: none !important; }` so we also need the `!important` here to be able to override the default hidden behavior on the sphinx rendered scikit-learn.org. See: https://github.com/scikit-learn/scikit-learn/issues/21755 */display: inline-block !important;position: relative;}#sk-container-id-1 div.sk-text-repr-fallback {display: none;}</style><div id=\"sk-container-id-1\" class=\"sk-top-container\"><div class=\"sk-text-repr-fallback\"><pre>GaussianNB()</pre><b>In a Jupyter environment, please rerun this cell to show the HTML representation or trust the notebook. <br />On GitHub, the HTML representation is unable to render, please try loading this page with nbviewer.org.</b></div><div class=\"sk-container\" hidden><div class=\"sk-item\"><div class=\"sk-estimator sk-toggleable\"><input class=\"sk-toggleable__control sk-hidden--visually\" id=\"sk-estimator-id-1\" type=\"checkbox\" checked><label for=\"sk-estimator-id-1\" class=\"sk-toggleable__label sk-toggleable__label-arrow\">GaussianNB</label><div class=\"sk-toggleable__content\"><pre>GaussianNB()</pre></div></div></div></div></div>"
      ],
      "text/plain": [
       "GaussianNB()"
      ]
     },
     "execution_count": 10,
     "metadata": {},
     "output_type": "execute_result"
    }
   ],
   "source": [
    "gnb = GaussianNB()\n",
    "gnb.fit(X, y)"
   ]
  },
  {
   "cell_type": "code",
   "execution_count": 11,
   "id": "48d7e748-00d0-47d8-bf7e-afe2b37eb67a",
   "metadata": {},
   "outputs": [],
   "source": [
    "# making predictions on the testing set\n",
    "y_pred = cross_val_predict(gnb, X, y, cv=5)\n",
    "y_pred_test = cross_val_predict(gnb, X_test, y_test, cv=5)"
   ]
  },
  {
   "cell_type": "code",
   "execution_count": 12,
   "id": "b097f851-e234-47ef-be0c-02801aa7fe51",
   "metadata": {},
   "outputs": [
    {
     "data": {
      "text/plain": [
       "array([2., 1., 2., 2., 2., 1., 2., 2., 1., 2., 2., 1., 1., 1., 2., 2., 2.,\n",
       "       2., 2., 2., 2., 2., 1., 2., 2., 2., 2., 1., 2., 2., 2., 2., 2., 1.,\n",
       "       2., 2., 2., 2., 2., 1., 2., 2., 2., 2., 2., 2., 2., 1., 1., 2., 2.,\n",
       "       2., 2., 2., 1., 2., 2., 1., 2., 2., 2., 2., 2., 2., 2., 2., 2., 2.,\n",
       "       2., 1., 1., 2., 2., 2., 1., 2., 2., 2., 2., 2., 2., 1., 2., 2., 2.,\n",
       "       2., 2., 2., 2., 2., 2., 2., 2., 2., 1., 2., 1., 2., 2., 1., 2., 2.,\n",
       "       2., 1., 2., 1., 2., 2., 2., 2., 2., 1., 2., 1., 1., 2., 2., 2., 2.,\n",
       "       2., 1., 2., 2., 2., 2., 2., 1., 2., 2., 2., 2., 1., 2., 2., 2., 2.,\n",
       "       2., 2., 1., 2., 2., 2., 2., 2., 2., 2., 2., 1., 2., 2., 2., 2., 2.,\n",
       "       1., 2., 1., 2., 1., 2., 1., 1., 2., 2., 2., 1., 2., 2., 2., 1., 2.,\n",
       "       2., 2., 2., 2., 2., 2., 1., 2., 2., 2., 2., 2., 1., 2., 1., 2., 1.,\n",
       "       2., 1., 2., 2., 2., 2., 2., 2., 2., 2., 1., 2., 2., 2., 1., 1., 2.,\n",
       "       2., 2., 1., 2., 2., 1., 2., 2., 2., 2., 2., 1., 2., 2., 2., 2., 2.,\n",
       "       2., 2., 2., 2., 2., 1., 2., 2., 2., 2., 1., 2., 2., 2., 2., 2., 2.,\n",
       "       2., 2., 2., 2., 2., 2., 2., 2., 2., 2., 1., 2., 2., 2., 2., 2., 1.,\n",
       "       2., 1., 2., 2., 1., 2., 2., 2., 2., 2., 2., 2., 1., 2., 2., 2., 2.,\n",
       "       2., 2., 2., 2., 2., 1., 2., 2., 2., 1., 2., 2., 2., 2., 1., 2., 2.,\n",
       "       2., 2., 2., 2., 1., 2., 2., 2., 1., 2., 2., 2., 2., 1., 1., 1., 2.,\n",
       "       2., 2., 1., 2., 2., 2., 1., 2., 2., 2., 1., 2., 1., 2., 2., 1., 1.,\n",
       "       2., 2., 2., 2., 2., 2., 2., 1., 2., 2.])"
      ]
     },
     "execution_count": 12,
     "metadata": {},
     "output_type": "execute_result"
    }
   ],
   "source": [
    "y_pred"
   ]
  },
  {
   "cell_type": "code",
   "execution_count": 13,
   "id": "7605b7f4-2e07-4668-83d5-1af4a7d3f4cf",
   "metadata": {},
   "outputs": [
    {
     "name": "stdout",
     "output_type": "stream",
     "text": [
      "Gaussian Naive Bayes model accuracy(in %): 80.18018018018019\n",
      "Gaussian Naive Bayes model MCC: 0.3608087157172645\n",
      "Gaussian Naive Bayes model accuracy(in %): 70.23809523809523\n",
      "Gaussian Naive Bayes model MCC: 0.21885688981825285\n"
     ]
    }
   ],
   "source": [
    "# comparing actual response values (y) with predicted response values (y_pred) using cross validation\n",
    "print(\"Gaussian Naive Bayes model accuracy(in %):\", metrics.accuracy_score(y, y_pred)*100)\n",
    "print(\"Gaussian Naive Bayes model MCC:\", matthews_corrcoef(y, y_pred))\n",
    "# comparing actual response values (y) with predicted response values (y_pred) using cross validation\n",
    "print(\"Gaussian Naive Bayes model accuracy(in %):\", metrics.accuracy_score(y_test, y_pred_test)*100)\n",
    "print(\"Gaussian Naive Bayes model MCC:\", matthews_corrcoef(y_test, y_pred_test))"
   ]
  },
  {
   "cell_type": "markdown",
   "id": "a543cf09-5983-4ee9-9c17-b11b4e6697bc",
   "metadata": {},
   "source": [
    "The MCC was too low using all the features"
   ]
  },
  {
   "cell_type": "markdown",
   "id": "cc014bce-520d-4f67-b681-8dd006108d80",
   "metadata": {},
   "source": [
    "### 2. Find the optimal number of features for Gaussian NB"
   ]
  },
  {
   "cell_type": "markdown",
   "id": "fa5bb09e-b07f-4abe-a66c-115aeaf4e005",
   "metadata": {},
   "source": [
    "#### MCC"
   ]
  },
  {
   "cell_type": "code",
   "execution_count": 14,
   "id": "8441224d-835a-418f-a605-183fc843fce4",
   "metadata": {},
   "outputs": [],
   "source": [
    "# This is a function that takes in the X,y,and total number of features to consider \n",
    "# and returns the MCC value using given amount of variables\n",
    "def MCC_func(X_train,y_true,index):\n",
    "    data_modeled = model.fit(X_train.iloc[:,0:index+1], y_true)\n",
    "    #print(X_train.iloc[:,0:2])\n",
    "    y_pred = data_modeled.predict(X_train.iloc[:,0:index+1])\n",
    "    MCC = matthews_corrcoef(y_true, y_pred)\n",
    "    return MCC"
   ]
  },
  {
   "cell_type": "code",
   "execution_count": null,
   "id": "826d8378-028e-48df-a152-d4d7820b96c6",
   "metadata": {
    "tags": []
   },
   "outputs": [],
   "source": [
    "model = GaussianNB()\n",
    "MCC = []\n",
    "i = 0\n",
    "while i<=3500:\n",
    "    score = MCC_func(X,y,i)\n",
    "    MCC.append(score)\n",
    "    i += 1"
   ]
  },
  {
   "cell_type": "code",
   "execution_count": null,
   "id": "aa674c72-b12f-498c-967d-34077173eba0",
   "metadata": {},
   "outputs": [],
   "source": [
    "index = list(range(0,3501))\n",
    "fig, ax = plt.subplots(figsize=(15, 5))\n",
    "plt.plot(index, MCC, '-o', markersize=5)\n",
    "plt.xlabel('Number of Features', fontsize=14)\n",
    "plt.ylabel('MCC score', fontsize=14)\n",
    "plt.title('Relation between MCC score and Number of Features')\n",
    "plt.show()"
   ]
  },
  {
   "cell_type": "code",
   "execution_count": null,
   "id": "39ddcea7-b00f-456f-8f52-05fce224fe45",
   "metadata": {},
   "outputs": [],
   "source": [
    "MCC_pd = pd.DataFrame(MCC, columns = ['MCC'])\n",
    "MCC_pd.sort_values(by = ['MCC'], ascending=[False]).iloc[:10,:]"
   ]
  },
  {
   "cell_type": "code",
   "execution_count": null,
   "id": "b0185e8d-f065-4bb4-bafb-e24b06f65572",
   "metadata": {},
   "outputs": [],
   "source": [
    "bestmany = MCC_pd['MCC'].idxmax()"
   ]
  },
  {
   "cell_type": "markdown",
   "id": "1947aee5-d919-4bf8-af16-f4c6ec2cb3fb",
   "metadata": {},
   "source": [
    "Therefore, we conclude that the optimal MCC was reached with 1535 features. (There might be slight alteration due to ransom split of train/test dataset)"
   ]
  },
  {
   "cell_type": "markdown",
   "id": "5921a4fe-a758-4547-b385-42519c2002b8",
   "metadata": {},
   "source": [
    "#### Accuracy"
   ]
  },
  {
   "cell_type": "code",
   "execution_count": 88,
   "id": "e7a7776b-fe3f-4630-9c77-a457cb66bf2b",
   "metadata": {},
   "outputs": [],
   "source": [
    "def accuracy_func (X_train,y_true,index):\n",
    "    data_modeled = model.fit(X_train.iloc[:,0:index+1], y_true)\n",
    "    y_pred = data_modeled.predict(X_train.iloc[:,0:index+1])\n",
    "    accur = metrics.accuracy_score(y_true, y_pred)\n",
    "    return accur"
   ]
  },
  {
   "cell_type": "code",
   "execution_count": 89,
   "id": "05112b37-8c15-4c94-af59-c95ac377d184",
   "metadata": {},
   "outputs": [],
   "source": [
    "model = GaussianNB()\n",
    "accuracy = []\n",
    "i = 0\n",
    "while i<= 3500:\n",
    "    score = accuracy_func(X,y,i)\n",
    "    accuracy.append(score)\n",
    "    i += 1"
   ]
  },
  {
   "cell_type": "code",
   "execution_count": 90,
   "id": "4d5b81df-3f49-4f50-8f2a-f3dd5ba84f16",
   "metadata": {},
   "outputs": [
    {
     "data": {
      "image/png": "[encoded data removed]",
      "text/plain": [
       "<Figure size 1080x360 with 1 Axes>"
      ]
     },
     "metadata": {
      "needs_background": "light"
     },
     "output_type": "display_data"
    }
   ],
   "source": [
    "index = list(range(0,3501))\n",
    "fig, ax = plt.subplots(figsize=(15, 5))\n",
    "plt.plot(index, accuracy, '-o', markersize=5)\n",
    "plt.xlabel('Number of Features', fontsize=14)\n",
    "plt.ylabel('Accuracy', fontsize=14)\n",
    "plt.title('Relation between Accuracy score and Number of Features')\n",
    "plt.show()"
   ]
  },
  {
   "cell_type": "code",
   "execution_count": 91,
   "id": "5ade28d9-aeb1-4861-b014-93529eff89a1",
   "metadata": {},
   "outputs": [
    {
     "data": {
      "text/html": [
       "<div>\n",
       "<style scoped>\n",
       "    .dataframe tbody tr th:only-of-type {\n",
       "        vertical-align: middle;\n",
       "    }\n",
       "\n",
       "    .dataframe tbody tr th {\n",
       "        vertical-align: top;\n",
       "    }\n",
       "\n",
       "    .dataframe thead th {\n",
       "        text-align: right;\n",
       "    }\n",
       "</style>\n",
       "<table border=\"1\" class=\"dataframe\">\n",
       "  <thead>\n",
       "    <tr style=\"text-align: right;\">\n",
       "      <th></th>\n",
       "      <th>Accuracy</th>\n",
       "    </tr>\n",
       "  </thead>\n",
       "  <tbody>\n",
       "    <tr>\n",
       "      <th>1529</th>\n",
       "      <td>0.891892</td>\n",
       "    </tr>\n",
       "    <tr>\n",
       "      <th>1542</th>\n",
       "      <td>0.891892</td>\n",
       "    </tr>\n",
       "    <tr>\n",
       "      <th>1530</th>\n",
       "      <td>0.891892</td>\n",
       "    </tr>\n",
       "    <tr>\n",
       "      <th>1552</th>\n",
       "      <td>0.891892</td>\n",
       "    </tr>\n",
       "    <tr>\n",
       "      <th>1551</th>\n",
       "      <td>0.891892</td>\n",
       "    </tr>\n",
       "    <tr>\n",
       "      <th>1550</th>\n",
       "      <td>0.891892</td>\n",
       "    </tr>\n",
       "    <tr>\n",
       "      <th>1549</th>\n",
       "      <td>0.891892</td>\n",
       "    </tr>\n",
       "    <tr>\n",
       "      <th>1548</th>\n",
       "      <td>0.891892</td>\n",
       "    </tr>\n",
       "    <tr>\n",
       "      <th>1547</th>\n",
       "      <td>0.891892</td>\n",
       "    </tr>\n",
       "    <tr>\n",
       "      <th>1545</th>\n",
       "      <td>0.891892</td>\n",
       "    </tr>\n",
       "  </tbody>\n",
       "</table>\n",
       "</div>"
      ],
      "text/plain": [
       "      Accuracy\n",
       "1529  0.891892\n",
       "1542  0.891892\n",
       "1530  0.891892\n",
       "1552  0.891892\n",
       "1551  0.891892\n",
       "1550  0.891892\n",
       "1549  0.891892\n",
       "1548  0.891892\n",
       "1547  0.891892\n",
       "1545  0.891892"
      ]
     },
     "execution_count": 91,
     "metadata": {},
     "output_type": "execute_result"
    }
   ],
   "source": [
    "accur_pd = pd.DataFrame(accuracy, columns = ['Accuracy'])\n",
    "accur_pd.sort_values(by = ['Accuracy'], ascending=[False]).iloc[:10,:]"
   ]
  },
  {
   "cell_type": "markdown",
   "id": "9766ff97-b2f3-48ca-ab19-76a6b5cd7cec",
   "metadata": {},
   "source": [
    "#### Complie two graphs together"
   ]
  },
  {
   "cell_type": "code",
   "execution_count": 96,
   "id": "c8f0a03f-ec3d-4e94-9129-814699709472",
   "metadata": {},
   "outputs": [
    {
     "data": {
      "image/png": "[encoded data removed]",
      "text/plain": [
       "<Figure size 1080x360 with 1 Axes>"
      ]
     },
     "metadata": {
      "needs_background": "light"
     },
     "output_type": "display_data"
    }
   ],
   "source": [
    "index = list(range(0,3501))\n",
    "fig, ax = plt.subplots(figsize=(15, 5))\n",
    "plt.plot(index, accuracy, '-o', markersize=1)\n",
    "plt.plot(index, MCC, '-o', markersize=1)\n",
    "\n",
    "plt.text(index[-1], accuracy[-1], 'Accuracy', ha='right', va='bottom', fontsize=18, color='blue')\n",
    "plt.text(index[-1], MCC[-1], 'MCC', ha='right', va='bottom', fontsize=18, color='orange')\n",
    "\n",
    "plt.xlabel('Number of Features', fontsize=14)\n",
    "plt.ylabel('Scores', fontsize=14)\n",
    "plt.title('Relation between Scores and Number of Features')\n",
    "plt.show()\n",
    "# Save the figure as a PNG file\n",
    "fig.savefig('NB_Accu_MCC.png')"
   ]
  },
  {
   "cell_type": "markdown",
   "id": "2949286f-ad8e-484b-acda-8eba25f0f641",
   "metadata": {},
   "source": [
    "#### Confusion Matrix"
   ]
  },
  {
   "cell_type": "code",
   "execution_count": 93,
   "id": "1d4f6b30-d114-48a9-afda-0101c8a55f1d",
   "metadata": {},
   "outputs": [],
   "source": [
    "y_pred_best = cross_val_predict(gnb, X.iloc[:,:bestmany], y, cv=5)"
   ]
  },
  {
   "cell_type": "code",
   "execution_count": 103,
   "id": "e6b99891-e720-4ef8-a9ec-1a8faddb544d",
   "metadata": {},
   "outputs": [
    {
     "data": {
      "image/png": "[encoded data removed]",
      "text/plain": [
       "<Figure size 550x550 with 2 Axes>"
      ]
     },
     "metadata": {},
     "output_type": "display_data"
    }
   ],
   "source": [
    "conf_matrix = confusion_matrix(y, y_pred_best, labels=[1.0, 2.0]).T \n",
    "fig, ax = plt.subplots(figsize=(5.5, 5.5), dpi=100, facecolor='w', edgecolor='k', constrained_layout=True, subplot_kw=dict(aspect='equal'))\n",
    "class_names = ['N1','N0']\n",
    "sns.heatmap(conf_matrix, annot=True, cmap='Blues', fmt='g', xticklabels=class_names, yticklabels=class_names, ax=ax)\n",
    "ax.set_xlabel('Predictions', fontsize=14)\n",
    "ax.set_ylabel('Actuals', fontsize=14)\n",
    "ax.set_title('Confusion Matrix CV - Bayessian', fontsize=14)\n",
    "plt.show()\n",
    "# Save the figure as a PNG file\n",
    "fig.savefig('NB_Confusion Matrix CV.png')"
   ]
  },
  {
   "cell_type": "markdown",
   "id": "8e9e5188-ea04-4ed1-b627-55362cf9a570",
   "metadata": {},
   "source": [
    "The confusion matrix of the training set indicates well prediction on TN (N0) labels. However, prediction on TP (N1) is not as good."
   ]
  },
  {
   "cell_type": "code",
   "execution_count": 98,
   "id": "215489c9-f2d8-408c-9ff0-c6ebc1c4c5f1",
   "metadata": {},
   "outputs": [],
   "source": [
    "y_pred_test = cross_val_predict(gnb, data_test.iloc[:,:bestmany], data_test['PATH_N_STAGE'], cv=5)"
   ]
  },
  {
   "cell_type": "code",
   "execution_count": 102,
   "id": "9e57f13c-4a84-47df-8790-b7b73d69d49f",
   "metadata": {},
   "outputs": [
    {
     "data": {
      "image/png": "[encoded data removed]",
      "text/plain": [
       "<Figure size 550x550 with 2 Axes>"
      ]
     },
     "metadata": {},
     "output_type": "display_data"
    }
   ],
   "source": [
    "conf_matrix = confusion_matrix(data_test['PATH_N_STAGE'], y_pred_test, labels=[1.0, 2.0]).T \n",
    "fig, ax = plt.subplots(figsize=(5.5, 5.5), dpi=100, facecolor='w', edgecolor='k', constrained_layout=True, subplot_kw=dict(aspect='equal'))\n",
    "class_names = ['N1','N0']\n",
    "sns.heatmap(conf_matrix, annot=True, cmap='Blues', fmt='g', xticklabels=class_names, yticklabels=class_names, ax=ax)\n",
    "ax.set_xlabel('Predictions', fontsize=14)\n",
    "ax.set_ylabel('Actuals', fontsize=14)\n",
    "ax.set_title('Confusion Matrix test - Bayessian', fontsize=14)\n",
    "plt.show()\n",
    "fig.savefig('NB_Confusion Matrix test.png')"
   ]
  },
  {
   "cell_type": "markdown",
   "id": "be2c7108-afff-42a2-bf96-bc610d63aac0",
   "metadata": {},
   "source": [
    "The problem on lack of ability to predict TP (N1) is even more significant in test set."
   ]
  }
 ],
 "metadata": {
  "kernelspec": {
   "display_name": "Python 3.8",
   "language": "python",
   "name": "python3"
  },
  "language_info": {
   "codemirror_mode": {
    "name": "ipython",
    "version": 3
   },
   "file_extension": ".py",
   "mimetype": "text/x-python",
   "name": "python",
   "nbconvert_exporter": "python",
   "pygments_lexer": "ipython3",
   "version": "3.8.6"
  }
 },
 "nbformat": 4,
 "nbformat_minor": 5
}
