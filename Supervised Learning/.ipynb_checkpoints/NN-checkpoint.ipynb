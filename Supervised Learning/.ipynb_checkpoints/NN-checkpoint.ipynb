{
 "cells": [
  {
   "cell_type": "code",
   "execution_count": 139,
   "id": "340d4f43-6f4a-464d-834f-756b6c55d36c",
   "metadata": {},
   "outputs": [],
   "source": [
    "import pandas as pd\n",
    "import numpy as np\n",
    "import matplotlib.pyplot as plt\n",
    "from matplotlib.colors import ListedColormap\n",
    "from sklearn.naive_bayes import GaussianNB\n",
    "from sklearn import metrics\n",
    "from sklearn.model_selection import cross_val_score, KFold, cross_val_predict\n",
    "from sklearn.metrics import confusion_matrix, matthews_corrcoef\n",
    "from sklearn.model_selection import train_test_split\n",
    "from sklearn.feature_selection import f_classif"
   ]
  },
  {
   "cell_type": "code",
   "execution_count": 140,
   "id": "c021ce2e-887b-4ebe-9f84-82c5ec7bc8ae",
   "metadata": {},
   "outputs": [],
   "source": [
    "from keras.models import Sequential\n",
    "from keras.layers import Dense"
   ]
  },
  {
   "cell_type": "code",
   "execution_count": 141,
   "id": "448e2733-bfcc-4f4e-a04c-5e394e494f1a",
   "metadata": {},
   "outputs": [],
   "source": [
    "# load data file\n",
    "data = pd.read_csv('/home/DAVIDSON/jiqian/Workspace/IS/CancerBioInfo/Data Processing/data_processed.csv')"
   ]
  },
  {
   "cell_type": "code",
   "execution_count": 142,
   "id": "0650ac2e-83f4-4e04-9866-3c6bbeb99da6",
   "metadata": {},
   "outputs": [],
   "source": [
    "label = data['PATH_N_STAGE']"
   ]
  },
  {
   "cell_type": "markdown",
   "id": "9714208b-c7ee-44a2-9b0e-5cbcaae6c3b0",
   "metadata": {},
   "source": [
    "### Run ANOVA F-value\n",
    "\n",
    "This move recalculate ANOVA F-value for all features so that the order of the features to include in the model best reflect difference between groups instead of within group."
   ]
  },
  {
   "cell_type": "code",
   "execution_count": 143,
   "id": "91ad66c6-a140-4959-ad91-e3868dc2dbd0",
   "metadata": {},
   "outputs": [],
   "source": [
    "f_values, p_values = f_classif(data.iloc[:,1:],data['PATH_N_STAGE'])\n",
    "f_pd = pd.DataFrame(f_values, columns = ['F-value'])"
   ]
  },
  {
   "cell_type": "code",
   "execution_count": 144,
   "id": "07bc963a-5a98-4424-8ef1-0637ca7c7b8c",
   "metadata": {},
   "outputs": [],
   "source": [
    "# create a new dataframe with the feature names and F-values\n",
    "fnf = pd.DataFrame({'feature': data.iloc[:,1:].columns, 'F-value': f_values})\n",
    "\n",
    "# sort the dataframe in descending order based on the F-values\n",
    "sorted_fnf = fnf.sort_values('F-value', ascending=False)\n",
    "\n",
    "columns = sorted_fnf['feature']\n",
    "\n",
    "selected = data[columns]\n",
    "data = selected\n",
    "data[\"PATH_N_STAGE\"] = label"
   ]
  },
  {
   "cell_type": "markdown",
   "id": "e6db46c4-2ab1-4227-b803-f6145a651440",
   "metadata": {},
   "source": [
    "### Split data into train set and test set"
   ]
  },
  {
   "cell_type": "code",
   "execution_count": 145,
   "id": "81fc54e9-d7f1-45d0-954c-da3980d1631d",
   "metadata": {},
   "outputs": [],
   "source": [
    "# Split the data into 80%/20%\n",
    "data_train, data_test = train_test_split(data, test_size = 0.2, random_state=42)\n",
    "data_train = data_train.reset_index(drop = True)\n",
    "data_test = data_test.reset_index(drop = True)"
   ]
  },
  {
   "cell_type": "code",
   "execution_count": 146,
   "id": "1913c005-8824-4242-acca-efb411c20692",
   "metadata": {},
   "outputs": [],
   "source": [
    "X = data_train.iloc[:,:data.shape[1]-1]\n",
    "y = data_train['PATH_N_STAGE']"
   ]
  },
  {
   "cell_type": "markdown",
   "id": "a9393a5b-8b88-4cb0-9e1a-47354cf4905d",
   "metadata": {},
   "source": [
    "### Run ANOVA F-value again"
   ]
  },
  {
   "cell_type": "code",
   "execution_count": 147,
   "id": "f2b1da12-65cd-485e-bd51-5a1acb31a5e9",
   "metadata": {},
   "outputs": [],
   "source": [
    "f_values, p_values = f_classif(X,y)\n",
    "f_pd = pd.DataFrame(f_values, columns = ['F-value'])"
   ]
  },
  {
   "cell_type": "code",
   "execution_count": 148,
   "id": "e72ca1df-4291-4475-9806-5b448d9b7b77",
   "metadata": {},
   "outputs": [
    {
     "data": {
      "text/html": [
       "<div>\n",
       "<style scoped>\n",
       "    .dataframe tbody tr th:only-of-type {\n",
       "        vertical-align: middle;\n",
       "    }\n",
       "\n",
       "    .dataframe tbody tr th {\n",
       "        vertical-align: top;\n",
       "    }\n",
       "\n",
       "    .dataframe thead th {\n",
       "        text-align: right;\n",
       "    }\n",
       "</style>\n",
       "<table border=\"1\" class=\"dataframe\">\n",
       "  <thead>\n",
       "    <tr style=\"text-align: right;\">\n",
       "      <th></th>\n",
       "      <th>M_C16ORF91</th>\n",
       "      <th>M_CTNNAL1</th>\n",
       "      <th>M_MAP6D1</th>\n",
       "      <th>M_HIST1H2AK</th>\n",
       "      <th>M_ASH1L-AS1</th>\n",
       "      <th>M_HIST1H3J</th>\n",
       "      <th>M_SPATA46</th>\n",
       "      <th>M_GOLGA1</th>\n",
       "      <th>M_PRSS27</th>\n",
       "      <th>M_HIST1H2BN</th>\n",
       "      <th>...</th>\n",
       "      <th>M_RAD9A</th>\n",
       "      <th>M_RPA4</th>\n",
       "      <th>M_BBC3</th>\n",
       "      <th>M_HOTAIR</th>\n",
       "      <th>M_DUX4L6</th>\n",
       "      <th>M_KISS1R</th>\n",
       "      <th>M_KCNJ9</th>\n",
       "      <th>M_PIGL</th>\n",
       "      <th>M_LOC100129935</th>\n",
       "      <th>M_OR10G9</th>\n",
       "    </tr>\n",
       "  </thead>\n",
       "  <tbody>\n",
       "    <tr>\n",
       "      <th>0</th>\n",
       "      <td>0.8792</td>\n",
       "      <td>-0.0361</td>\n",
       "      <td>-0.3510</td>\n",
       "      <td>-0.3868</td>\n",
       "      <td>0.0693</td>\n",
       "      <td>-0.2442</td>\n",
       "      <td>-0.6439</td>\n",
       "      <td>0.8551</td>\n",
       "      <td>0.1356</td>\n",
       "      <td>1.2886</td>\n",
       "      <td>...</td>\n",
       "      <td>0.4958</td>\n",
       "      <td>-0.2268</td>\n",
       "      <td>-0.2790</td>\n",
       "      <td>-0.1641</td>\n",
       "      <td>5.0093</td>\n",
       "      <td>-0.1309</td>\n",
       "      <td>3.4446</td>\n",
       "      <td>0.3162</td>\n",
       "      <td>-0.0489</td>\n",
       "      <td>-0.0504</td>\n",
       "    </tr>\n",
       "    <tr>\n",
       "      <th>1</th>\n",
       "      <td>1.1363</td>\n",
       "      <td>-0.2450</td>\n",
       "      <td>-0.2738</td>\n",
       "      <td>-0.1765</td>\n",
       "      <td>0.3303</td>\n",
       "      <td>0.3021</td>\n",
       "      <td>0.2213</td>\n",
       "      <td>0.1103</td>\n",
       "      <td>-0.0034</td>\n",
       "      <td>-0.7416</td>\n",
       "      <td>...</td>\n",
       "      <td>-0.4151</td>\n",
       "      <td>-0.1522</td>\n",
       "      <td>1.4193</td>\n",
       "      <td>2.6129</td>\n",
       "      <td>-0.1881</td>\n",
       "      <td>-0.2389</td>\n",
       "      <td>1.4233</td>\n",
       "      <td>-0.0742</td>\n",
       "      <td>-0.0489</td>\n",
       "      <td>-0.0504</td>\n",
       "    </tr>\n",
       "    <tr>\n",
       "      <th>2</th>\n",
       "      <td>-0.7364</td>\n",
       "      <td>-0.3339</td>\n",
       "      <td>-1.1468</td>\n",
       "      <td>-0.1550</td>\n",
       "      <td>0.1437</td>\n",
       "      <td>-0.6287</td>\n",
       "      <td>-0.6439</td>\n",
       "      <td>-0.7200</td>\n",
       "      <td>-0.2643</td>\n",
       "      <td>-0.3989</td>\n",
       "      <td>...</td>\n",
       "      <td>-0.2748</td>\n",
       "      <td>-0.1527</td>\n",
       "      <td>0.1968</td>\n",
       "      <td>-0.3996</td>\n",
       "      <td>-0.1881</td>\n",
       "      <td>-0.1954</td>\n",
       "      <td>-0.7553</td>\n",
       "      <td>-0.1914</td>\n",
       "      <td>-0.0489</td>\n",
       "      <td>-0.0504</td>\n",
       "    </tr>\n",
       "    <tr>\n",
       "      <th>3</th>\n",
       "      <td>-0.9999</td>\n",
       "      <td>-1.2376</td>\n",
       "      <td>-0.4907</td>\n",
       "      <td>-0.2636</td>\n",
       "      <td>-0.2875</td>\n",
       "      <td>-0.6287</td>\n",
       "      <td>3.5319</td>\n",
       "      <td>0.7420</td>\n",
       "      <td>0.0393</td>\n",
       "      <td>-1.5120</td>\n",
       "      <td>...</td>\n",
       "      <td>-0.3144</td>\n",
       "      <td>-0.5817</td>\n",
       "      <td>-0.6945</td>\n",
       "      <td>0.3986</td>\n",
       "      <td>-0.1881</td>\n",
       "      <td>-0.2389</td>\n",
       "      <td>0.7469</td>\n",
       "      <td>0.5225</td>\n",
       "      <td>-0.0489</td>\n",
       "      <td>-0.0504</td>\n",
       "    </tr>\n",
       "    <tr>\n",
       "      <th>4</th>\n",
       "      <td>2.6742</td>\n",
       "      <td>-0.2704</td>\n",
       "      <td>-0.6972</td>\n",
       "      <td>-0.7952</td>\n",
       "      <td>-0.2508</td>\n",
       "      <td>-0.6287</td>\n",
       "      <td>-0.6439</td>\n",
       "      <td>-0.4717</td>\n",
       "      <td>-0.6117</td>\n",
       "      <td>-0.6322</td>\n",
       "      <td>...</td>\n",
       "      <td>0.9930</td>\n",
       "      <td>0.0924</td>\n",
       "      <td>-0.6307</td>\n",
       "      <td>1.0482</td>\n",
       "      <td>-0.1881</td>\n",
       "      <td>-0.1363</td>\n",
       "      <td>-0.1854</td>\n",
       "      <td>-0.6224</td>\n",
       "      <td>-0.0489</td>\n",
       "      <td>-0.0504</td>\n",
       "    </tr>\n",
       "    <tr>\n",
       "      <th>...</th>\n",
       "      <td>...</td>\n",
       "      <td>...</td>\n",
       "      <td>...</td>\n",
       "      <td>...</td>\n",
       "      <td>...</td>\n",
       "      <td>...</td>\n",
       "      <td>...</td>\n",
       "      <td>...</td>\n",
       "      <td>...</td>\n",
       "      <td>...</td>\n",
       "      <td>...</td>\n",
       "      <td>...</td>\n",
       "      <td>...</td>\n",
       "      <td>...</td>\n",
       "      <td>...</td>\n",
       "      <td>...</td>\n",
       "      <td>...</td>\n",
       "      <td>...</td>\n",
       "      <td>...</td>\n",
       "      <td>...</td>\n",
       "      <td>...</td>\n",
       "    </tr>\n",
       "    <tr>\n",
       "      <th>328</th>\n",
       "      <td>-1.3892</td>\n",
       "      <td>0.2992</td>\n",
       "      <td>-0.8179</td>\n",
       "      <td>-0.3634</td>\n",
       "      <td>-0.8512</td>\n",
       "      <td>-0.0060</td>\n",
       "      <td>0.5137</td>\n",
       "      <td>0.3913</td>\n",
       "      <td>-0.5895</td>\n",
       "      <td>-0.2057</td>\n",
       "      <td>...</td>\n",
       "      <td>-0.7982</td>\n",
       "      <td>-0.2943</td>\n",
       "      <td>-0.5631</td>\n",
       "      <td>-0.4145</td>\n",
       "      <td>-0.1881</td>\n",
       "      <td>-0.2098</td>\n",
       "      <td>-0.1075</td>\n",
       "      <td>-0.6982</td>\n",
       "      <td>-0.0489</td>\n",
       "      <td>-0.0504</td>\n",
       "    </tr>\n",
       "    <tr>\n",
       "      <th>329</th>\n",
       "      <td>-0.6168</td>\n",
       "      <td>-0.5563</td>\n",
       "      <td>0.1017</td>\n",
       "      <td>-0.1894</td>\n",
       "      <td>0.1920</td>\n",
       "      <td>-0.6287</td>\n",
       "      <td>0.3637</td>\n",
       "      <td>0.0425</td>\n",
       "      <td>0.3491</td>\n",
       "      <td>-0.9687</td>\n",
       "      <td>...</td>\n",
       "      <td>0.1278</td>\n",
       "      <td>-0.4566</td>\n",
       "      <td>-0.7463</td>\n",
       "      <td>0.1092</td>\n",
       "      <td>-0.1881</td>\n",
       "      <td>-0.2008</td>\n",
       "      <td>-0.3324</td>\n",
       "      <td>0.3953</td>\n",
       "      <td>-0.0489</td>\n",
       "      <td>-0.0504</td>\n",
       "    </tr>\n",
       "    <tr>\n",
       "      <th>330</th>\n",
       "      <td>0.8713</td>\n",
       "      <td>1.3086</td>\n",
       "      <td>0.9111</td>\n",
       "      <td>1.4000</td>\n",
       "      <td>1.0178</td>\n",
       "      <td>-0.1033</td>\n",
       "      <td>-0.6439</td>\n",
       "      <td>3.4720</td>\n",
       "      <td>0.5115</td>\n",
       "      <td>0.9060</td>\n",
       "      <td>...</td>\n",
       "      <td>1.6843</td>\n",
       "      <td>0.0245</td>\n",
       "      <td>-0.1362</td>\n",
       "      <td>-0.3681</td>\n",
       "      <td>3.3634</td>\n",
       "      <td>-0.0913</td>\n",
       "      <td>-0.7553</td>\n",
       "      <td>1.8720</td>\n",
       "      <td>-0.0489</td>\n",
       "      <td>-0.0504</td>\n",
       "    </tr>\n",
       "    <tr>\n",
       "      <th>331</th>\n",
       "      <td>-1.1250</td>\n",
       "      <td>1.3591</td>\n",
       "      <td>-0.6607</td>\n",
       "      <td>-0.1890</td>\n",
       "      <td>-0.9390</td>\n",
       "      <td>0.5643</td>\n",
       "      <td>1.0194</td>\n",
       "      <td>-0.5864</td>\n",
       "      <td>-0.4240</td>\n",
       "      <td>-0.0317</td>\n",
       "      <td>...</td>\n",
       "      <td>-1.1615</td>\n",
       "      <td>-0.4441</td>\n",
       "      <td>-0.6757</td>\n",
       "      <td>-0.4448</td>\n",
       "      <td>-0.1881</td>\n",
       "      <td>-0.2389</td>\n",
       "      <td>-0.7553</td>\n",
       "      <td>-0.8009</td>\n",
       "      <td>-0.0489</td>\n",
       "      <td>-0.0504</td>\n",
       "    </tr>\n",
       "    <tr>\n",
       "      <th>332</th>\n",
       "      <td>-0.3876</td>\n",
       "      <td>0.3343</td>\n",
       "      <td>-0.7292</td>\n",
       "      <td>-0.4921</td>\n",
       "      <td>-0.5457</td>\n",
       "      <td>-0.6287</td>\n",
       "      <td>-0.1611</td>\n",
       "      <td>-0.2951</td>\n",
       "      <td>-0.3062</td>\n",
       "      <td>-0.7808</td>\n",
       "      <td>...</td>\n",
       "      <td>0.8837</td>\n",
       "      <td>-0.5817</td>\n",
       "      <td>0.2110</td>\n",
       "      <td>-0.3310</td>\n",
       "      <td>-0.1881</td>\n",
       "      <td>-0.2389</td>\n",
       "      <td>-0.3500</td>\n",
       "      <td>-0.5502</td>\n",
       "      <td>-0.0489</td>\n",
       "      <td>-0.0504</td>\n",
       "    </tr>\n",
       "  </tbody>\n",
       "</table>\n",
       "<p>333 rows × 3816 columns</p>\n",
       "</div>"
      ],
      "text/plain": [
       "     M_C16ORF91  M_CTNNAL1  M_MAP6D1  M_HIST1H2AK  M_ASH1L-AS1  M_HIST1H3J  \\\n",
       "0        0.8792    -0.0361   -0.3510      -0.3868       0.0693     -0.2442   \n",
       "1        1.1363    -0.2450   -0.2738      -0.1765       0.3303      0.3021   \n",
       "2       -0.7364    -0.3339   -1.1468      -0.1550       0.1437     -0.6287   \n",
       "3       -0.9999    -1.2376   -0.4907      -0.2636      -0.2875     -0.6287   \n",
       "4        2.6742    -0.2704   -0.6972      -0.7952      -0.2508     -0.6287   \n",
       "..          ...        ...       ...          ...          ...         ...   \n",
       "328     -1.3892     0.2992   -0.8179      -0.3634      -0.8512     -0.0060   \n",
       "329     -0.6168    -0.5563    0.1017      -0.1894       0.1920     -0.6287   \n",
       "330      0.8713     1.3086    0.9111       1.4000       1.0178     -0.1033   \n",
       "331     -1.1250     1.3591   -0.6607      -0.1890      -0.9390      0.5643   \n",
       "332     -0.3876     0.3343   -0.7292      -0.4921      -0.5457     -0.6287   \n",
       "\n",
       "     M_SPATA46  M_GOLGA1  M_PRSS27  M_HIST1H2BN  ...  M_RAD9A  M_RPA4  M_BBC3  \\\n",
       "0      -0.6439    0.8551    0.1356       1.2886  ...   0.4958 -0.2268 -0.2790   \n",
       "1       0.2213    0.1103   -0.0034      -0.7416  ...  -0.4151 -0.1522  1.4193   \n",
       "2      -0.6439   -0.7200   -0.2643      -0.3989  ...  -0.2748 -0.1527  0.1968   \n",
       "3       3.5319    0.7420    0.0393      -1.5120  ...  -0.3144 -0.5817 -0.6945   \n",
       "4      -0.6439   -0.4717   -0.6117      -0.6322  ...   0.9930  0.0924 -0.6307   \n",
       "..         ...       ...       ...          ...  ...      ...     ...     ...   \n",
       "328     0.5137    0.3913   -0.5895      -0.2057  ...  -0.7982 -0.2943 -0.5631   \n",
       "329     0.3637    0.0425    0.3491      -0.9687  ...   0.1278 -0.4566 -0.7463   \n",
       "330    -0.6439    3.4720    0.5115       0.9060  ...   1.6843  0.0245 -0.1362   \n",
       "331     1.0194   -0.5864   -0.4240      -0.0317  ...  -1.1615 -0.4441 -0.6757   \n",
       "332    -0.1611   -0.2951   -0.3062      -0.7808  ...   0.8837 -0.5817  0.2110   \n",
       "\n",
       "     M_HOTAIR  M_DUX4L6  M_KISS1R  M_KCNJ9  M_PIGL  M_LOC100129935  M_OR10G9  \n",
       "0     -0.1641    5.0093   -0.1309   3.4446  0.3162         -0.0489   -0.0504  \n",
       "1      2.6129   -0.1881   -0.2389   1.4233 -0.0742         -0.0489   -0.0504  \n",
       "2     -0.3996   -0.1881   -0.1954  -0.7553 -0.1914         -0.0489   -0.0504  \n",
       "3      0.3986   -0.1881   -0.2389   0.7469  0.5225         -0.0489   -0.0504  \n",
       "4      1.0482   -0.1881   -0.1363  -0.1854 -0.6224         -0.0489   -0.0504  \n",
       "..        ...       ...       ...      ...     ...             ...       ...  \n",
       "328   -0.4145   -0.1881   -0.2098  -0.1075 -0.6982         -0.0489   -0.0504  \n",
       "329    0.1092   -0.1881   -0.2008  -0.3324  0.3953         -0.0489   -0.0504  \n",
       "330   -0.3681    3.3634   -0.0913  -0.7553  1.8720         -0.0489   -0.0504  \n",
       "331   -0.4448   -0.1881   -0.2389  -0.7553 -0.8009         -0.0489   -0.0504  \n",
       "332   -0.3310   -0.1881   -0.2389  -0.3500 -0.5502         -0.0489   -0.0504  \n",
       "\n",
       "[333 rows x 3816 columns]"
      ]
     },
     "execution_count": 148,
     "metadata": {},
     "output_type": "execute_result"
    }
   ],
   "source": [
    "# create a new dataframe with the feature names and F-values\n",
    "fnf = pd.DataFrame({'feature': X.columns, 'F-value': f_values})\n",
    "\n",
    "# sort the dataframe in descending order based on the F-values\n",
    "sorted_fnf = fnf.sort_values('F-value', ascending=False)\n",
    "\n",
    "columns = sorted_fnf['feature']\n",
    "\n",
    "selected = X[columns]\n",
    "X = selected\n",
    "X"
   ]
  },
  {
   "cell_type": "markdown",
   "id": "edaf03aa-e9c1-4329-9cd5-11b63f0b3a34",
   "metadata": {},
   "source": [
    "### Neural Network"
   ]
  },
  {
   "cell_type": "markdown",
   "id": "ad58056d-c116-4f3d-babc-908f323d2b15",
   "metadata": {},
   "source": [
    "According to the paper, An MLP architecture was used as follows. \n",
    "1. An input layer with 1000 neurons and Rectified Linear Unit (ReLU) activation function. \n",
    "2. A second layer with two neurons and ReLU activation function. \n",
    "3. The output layer with one neuron and a sigmoid activation function.\n",
    "\n",
    "We will use this preliminary model described in the paper to perform Neural Network Classficiation"
   ]
  },
  {
   "cell_type": "code",
   "execution_count": 180,
   "id": "7a5c7a4d-cf68-4676-8672-dfb75491fba8",
   "metadata": {},
   "outputs": [],
   "source": [
    "# Define the model architecture\n",
    "model = Sequential()\n",
    "model.add(Dense(1000, input_dim=data_train.iloc[:,:1535].shape[1], activation='relu'))\n",
    "model.add(Dense(2, activation='relu'))\n",
    "model.add(Dense(1, activation='sigmoid'))\n",
    "\n",
    "# Compile the model\n",
    "model.compile(loss='binary_crossentropy', optimizer='adam', metrics=['accuracy'])"
   ]
  },
  {
   "cell_type": "code",
   "execution_count": 181,
   "id": "3893a573-e013-43a3-991f-cf86aa90e02d",
   "metadata": {},
   "outputs": [],
   "source": [
    "X = data_train.iloc[:,:1535]\n",
    "npX = X.to_numpy()\n",
    "# We need to convert y into binarized labels\n",
    "npy = (y-1).to_numpy(dtype = int)"
   ]
  },
  {
   "cell_type": "code",
   "execution_count": 182,
   "id": "43e1f03e-79c6-4f01-933d-7048e1af6a0e",
   "metadata": {
    "tags": []
   },
   "outputs": [
    {
     "name": "stdout",
     "output_type": "stream",
     "text": [
      "Epoch 1/20\n",
      "11/11 [==============================] - 1s 13ms/step - loss: 0.4841 - accuracy: 0.8228\n",
      "Epoch 2/20\n",
      "11/11 [==============================] - 0s 13ms/step - loss: 0.3303 - accuracy: 0.8348\n",
      "Epoch 3/20\n",
      "11/11 [==============================] - 0s 13ms/step - loss: 0.2644 - accuracy: 0.8348\n",
      "Epoch 4/20\n",
      "11/11 [==============================] - 0s 13ms/step - loss: 0.2003 - accuracy: 0.8348\n",
      "Epoch 5/20\n",
      "11/11 [==============================] - 0s 13ms/step - loss: 0.1822 - accuracy: 0.8348\n",
      "Epoch 6/20\n",
      "11/11 [==============================] - 0s 13ms/step - loss: 0.1633 - accuracy: 0.8348\n",
      "Epoch 7/20\n",
      "11/11 [==============================] - 0s 12ms/step - loss: 0.1538 - accuracy: 0.8979\n",
      "Epoch 8/20\n",
      "11/11 [==============================] - 0s 12ms/step - loss: 0.1428 - accuracy: 0.9670\n",
      "Epoch 9/20\n",
      "11/11 [==============================] - 0s 13ms/step - loss: 0.1389 - accuracy: 0.9550\n",
      "Epoch 10/20\n",
      "11/11 [==============================] - 0s 12ms/step - loss: 0.1379 - accuracy: 0.9730\n",
      "Epoch 11/20\n",
      "11/11 [==============================] - 0s 13ms/step - loss: 0.1335 - accuracy: 0.9730\n",
      "Epoch 12/20\n",
      "11/11 [==============================] - 0s 13ms/step - loss: 0.1303 - accuracy: 0.9730\n",
      "Epoch 13/20\n",
      "11/11 [==============================] - 0s 14ms/step - loss: 0.1304 - accuracy: 0.9640\n",
      "Epoch 14/20\n",
      "11/11 [==============================] - 0s 13ms/step - loss: 0.1287 - accuracy: 0.9760\n",
      "Epoch 15/20\n",
      "11/11 [==============================] - 0s 13ms/step - loss: 0.1275 - accuracy: 0.9760\n",
      "Epoch 16/20\n",
      "11/11 [==============================] - 0s 13ms/step - loss: 0.1265 - accuracy: 0.9760\n",
      "Epoch 17/20\n",
      "11/11 [==============================] - 0s 13ms/step - loss: 0.1256 - accuracy: 0.9760\n",
      "Epoch 18/20\n",
      "11/11 [==============================] - 0s 12ms/step - loss: 0.1249 - accuracy: 0.9760\n",
      "Epoch 19/20\n",
      "11/11 [==============================] - 0s 13ms/step - loss: 0.1243 - accuracy: 0.9760\n",
      "Epoch 20/20\n",
      "11/11 [==============================] - 0s 14ms/step - loss: 0.1237 - accuracy: 0.9760\n"
     ]
    }
   ],
   "source": [
    "#Fit the model\n",
    "history = model.fit(npX,npy, epochs = 20)"
   ]
  },
  {
   "cell_type": "code",
   "execution_count": 218,
   "id": "c935a83d-cb8d-46d1-b22d-2e22749f1c1f",
   "metadata": {},
   "outputs": [
    {
     "data": {
      "image/png": "[encoded data removed]",
      "text/plain": [
       "<Figure size 576x576 with 2 Axes>"
      ]
     },
     "metadata": {
      "needs_background": "light"
     },
     "output_type": "display_data"
    }
   ],
   "source": [
    "acc = history.history['accuracy']\n",
    "#val_acc = history.history['val_accuracy']\n",
    "\n",
    "loss = history.history['loss']\n",
    "#val_loss = history.history['val_loss']\n",
    "\n",
    "fig, ax = plt.subplots(figsize=(8, 8))\n",
    "plt.subplot(2, 1, 1)\n",
    "plt.plot(acc, label='Training Accuracy')\n",
    "#plt.plot(val_acc, label='Validation Accuracy')\n",
    "plt.legend(loc='lower right')\n",
    "plt.ylabel('Accuracy')\n",
    "plt.ylim([min(plt.ylim()),1])\n",
    "plt.title('Training and Accuracy')\n",
    "\n",
    "plt.subplot(2, 1, 2)\n",
    "plt.plot(loss, label='Training Loss')\n",
    "#plt.plot(val_loss, label='Validation Loss')\n",
    "plt.legend(loc='upper right')\n",
    "plt.ylabel('Cross Entropy')\n",
    "plt.ylim([0,1.0])\n",
    "plt.title('Training and Validation Loss')\n",
    "plt.xlabel('epoch')\n",
    "plt.show()\n",
    "fig.savefig('NN_Accu_loss.png')"
   ]
  },
  {
   "cell_type": "markdown",
   "id": "e79ad9d3-f25d-4c00-a424-b31415b2a576",
   "metadata": {},
   "source": [
    "The figrue showed increase accuracy and continuous reducing of training loss in the train set."
   ]
  },
  {
   "cell_type": "markdown",
   "id": "79cd901d-6aa9-4585-b0cb-bdbfddbd4176",
   "metadata": {},
   "source": [
    "#### Prediction using NN"
   ]
  },
  {
   "cell_type": "code",
   "execution_count": 188,
   "id": "eea628ec-7689-4555-934e-2f9f68afc65a",
   "metadata": {},
   "outputs": [
    {
     "name": "stdout",
     "output_type": "stream",
     "text": [
      "11/11 [==============================] - 0s 2ms/step\n"
     ]
    },
    {
     "data": {
      "text/plain": [
       "array([[0.9996421 ],\n",
       "       [0.46901116],\n",
       "       [0.99999255],\n",
       "       [0.9999779 ],\n",
       "       [0.9999823 ],\n",
       "       [0.99957794],\n",
       "       [0.99866384],\n",
       "       [0.9992647 ],\n",
       "       [0.99970776],\n",
       "       [0.46901116],\n",
       "       [0.9989016 ],\n",
       "       [0.9999538 ],\n",
       "       [0.46901116],\n",
       "       [0.46901116],\n",
       "       [0.99971485]], dtype=float32)"
      ]
     },
     "execution_count": 188,
     "metadata": {},
     "output_type": "execute_result"
    }
   ],
   "source": [
    "# Get predicted probabilities and convert to binary predictions\n",
    "y_pred = model.predict(data_train.iloc[:,:1535])\n",
    "# view the y_pred to see what they looks like\n",
    "y_pred[:15]"
   ]
  },
  {
   "cell_type": "markdown",
   "id": "7dbbc44f-e0cf-42e2-9692-1aa62ca4413b",
   "metadata": {},
   "source": [
    "The y_pred are either 0.99 or 0.46. Thus, we predic that 0.5 would be a good threshold."
   ]
  },
  {
   "cell_type": "markdown",
   "id": "bec76c40-ef85-4a3c-b99b-8f951e8c46ca",
   "metadata": {},
   "source": [
    "#### Thresholds and ROC curve\n",
    "\n",
    "In order to get the binarized label, we need to find a threshold that best seperated the two classes."
   ]
  },
  {
   "cell_type": "code",
   "execution_count": 189,
   "id": "830a0499-9d05-4fbd-8864-937a2b037fe6",
   "metadata": {},
   "outputs": [
    {
     "name": "stdout",
     "output_type": "stream",
     "text": [
      "maximum is 2.0\n",
      "minimum is 0.46901116\n"
     ]
    },
    {
     "data": {
      "text/plain": [
       "array([2.        , 1.        , 0.99999994, 0.9999999 , 0.9999998 ,\n",
       "       0.99999976, 0.9999997 , 0.99999964, 0.9999996 , 0.99999946,\n",
       "       0.99999905, 0.999999  , 0.9999989 , 0.99999887, 0.99999875,\n",
       "       0.9999983 , 0.9999982 , 0.9999973 , 0.9999971 , 0.99999636,\n",
       "       0.9999962 , 0.99999607, 0.9999955 , 0.99999547, 0.9999954 ,\n",
       "       0.9999951 , 0.99999505, 0.9999947 , 0.999994  , 0.99999386,\n",
       "       0.99999356, 0.99999326, 0.99999315, 0.9999929 , 0.99999285,\n",
       "       0.99999255, 0.99999243, 0.9999922 , 0.9999914 , 0.99999064,\n",
       "       0.9999899 , 0.9999898 , 0.99998975, 0.9999897 , 0.9999896 ,\n",
       "       0.99998945, 0.99998903, 0.99998873, 0.99998766, 0.9999867 ,\n",
       "       0.9999861 , 0.9999858 , 0.99998534, 0.9999847 , 0.99998415,\n",
       "       0.9999835 , 0.9999823 , 0.99998003, 0.9999799 , 0.9999793 ,\n",
       "       0.99997914, 0.99997896, 0.9999779 , 0.99997747, 0.99997693,\n",
       "       0.99997574, 0.9999734 , 0.99996924, 0.99996746, 0.99996626,\n",
       "       0.99996585, 0.99996525, 0.9999646 , 0.9999597 , 0.9999538 ,\n",
       "       0.9999527 , 0.9999485 , 0.9999476 , 0.9999467 , 0.9999462 ,\n",
       "       0.99994266, 0.99994075, 0.9999382 , 0.9999318 , 0.9999305 ,\n",
       "       0.99992883, 0.99992204, 0.9999216 , 0.99991673, 0.9999111 ,\n",
       "       0.9999008 , 0.9998923 , 0.99989164, 0.9998894 , 0.9998828 ,\n",
       "       0.99988186, 0.99988157, 0.99988097, 0.9998781 , 0.9998773 ,\n",
       "       0.99987644, 0.99987423, 0.99987024, 0.9998692 , 0.99986917,\n",
       "       0.99986875, 0.9998575 , 0.9998528 , 0.99984884, 0.9998436 ,\n",
       "       0.99983513, 0.99982977, 0.99982494, 0.9998238 , 0.99982363,\n",
       "       0.99982095, 0.99981976, 0.99981606, 0.999815  , 0.9998083 ,\n",
       "       0.9997939 , 0.9997922 , 0.9997857 , 0.99977964, 0.99977595,\n",
       "       0.9997671 , 0.9997656 , 0.9997591 , 0.99975663, 0.9997544 ,\n",
       "       0.99974626, 0.9997453 , 0.9997437 , 0.9997394 , 0.9997393 ,\n",
       "       0.99973774, 0.999736  , 0.99972945, 0.9997185 , 0.99971485,\n",
       "       0.99971336, 0.99971044, 0.99970776, 0.99970436, 0.9997036 ,\n",
       "       0.9997014 , 0.99969804, 0.99969524, 0.99969244, 0.9996918 ,\n",
       "       0.99967706, 0.9996626 , 0.9996607 , 0.9996421 , 0.999633  ,\n",
       "       0.9996289 , 0.99962604, 0.99962467, 0.99962395, 0.99957794,\n",
       "       0.99957126, 0.9995663 , 0.99954754, 0.99954176, 0.9995173 ,\n",
       "       0.99951327, 0.9995102 , 0.99947935, 0.9994649 , 0.99945414,\n",
       "       0.99943846, 0.99943614, 0.9994108 , 0.99939805, 0.9993954 ,\n",
       "       0.9993876 , 0.99938375, 0.99938095, 0.9993788 , 0.9993745 ,\n",
       "       0.999339  , 0.99931633, 0.9993018 , 0.99929756, 0.9992908 ,\n",
       "       0.9992829 , 0.9992787 , 0.99927413, 0.9992647 , 0.99925715,\n",
       "       0.99924874, 0.99924695, 0.99923366, 0.99920905, 0.9991992 ,\n",
       "       0.9991866 , 0.99917316, 0.9991459 , 0.99912244, 0.99906933,\n",
       "       0.99905616, 0.99901277, 0.9990084 , 0.99898946, 0.99897194,\n",
       "       0.99890184, 0.9989016 , 0.9987812 , 0.9987525 , 0.99874824,\n",
       "       0.998727  , 0.9986988 , 0.998668  , 0.99866384, 0.998632  ,\n",
       "       0.99846363, 0.9983921 , 0.9983874 , 0.9983826 , 0.99829984,\n",
       "       0.99827385, 0.99824214, 0.9982179 , 0.9981665 , 0.9980848 ,\n",
       "       0.99802804, 0.997908  , 0.99760526, 0.9974939 , 0.99741673,\n",
       "       0.9973306 , 0.99730015, 0.996951  , 0.9968679 , 0.9968516 ,\n",
       "       0.9954366 , 0.9950332 , 0.9948867 , 0.99473006, 0.9937352 ,\n",
       "       0.993579  , 0.9933445 , 0.99202716, 0.9919525 , 0.47125924,\n",
       "       0.46901116], dtype=float32)"
      ]
     },
     "execution_count": 189,
     "metadata": {},
     "output_type": "execute_result"
    }
   ],
   "source": [
    "#compute thresholds\n",
    "fpr, tpr, thresholds = roc_curve(npy, y_pred, pos_label=0, drop_intermediate = False)\n",
    "print('maximum is', thresholds.max())\n",
    "print('minimum is', thresholds.min())\n",
    "thresholds"
   ]
  },
  {
   "cell_type": "markdown",
   "id": "ae84df16-5f70-4702-92bd-6f320835ace2",
   "metadata": {},
   "source": [
    "We do not understnad why maximum is 2.0 but not 1.0."
   ]
  },
  {
   "cell_type": "code",
   "execution_count": 212,
   "id": "8bcb5291-21bc-4697-903c-7ca51212020f",
   "metadata": {},
   "outputs": [
    {
     "data": {
      "image/png": "[encoded data removed]",
      "text/plain": [
       "<Figure size 432x288 with 1 Axes>"
      ]
     },
     "metadata": {
      "needs_background": "light"
     },
     "output_type": "display_data"
    }
   ],
   "source": [
    "roc_auc = auc(fpr, tpr)\n",
    "#print(fpr): steady increase\n",
    "#print(tpr): stayed zero and increased to 0.9 immediately \n",
    "# Plot ROC curve\n",
    "plt.plot(fpr, tpr, color='darkorange', label='ROC curve (AUC = %0.2f)' % roc_auc)\n",
    "plt.plot([0, 1], [0, 1], color='navy', linestyle='--')\n",
    "plt.xlabel('False Positive Rate')\n",
    "plt.ylabel('True Positive Rate')\n",
    "plt.title('Receiver Operating Characteristic')\n",
    "plt.legend(loc=\"lower right\")\n",
    "plt.show()"
   ]
  },
  {
   "cell_type": "markdown",
   "id": "66d2680d-d8bb-45cc-854d-bcd523da6d3a",
   "metadata": {},
   "source": [
    "Therefore, we can use 0.5 as a thrshold for classification. "
   ]
  },
  {
   "cell_type": "markdown",
   "id": "6062ad71-60a5-4bb5-a55f-c752ddfda812",
   "metadata": {},
   "source": [
    "#### Label predictions"
   ]
  },
  {
   "cell_type": "code",
   "execution_count": 213,
   "id": "3bc8f1a2-0414-47c8-9f06-f7667edbc567",
   "metadata": {},
   "outputs": [
    {
     "data": {
      "text/plain": [
       "array([1, 0, 1, 1, 1, 1, 1, 1, 1, 0, 1, 1, 0, 0, 1, 1, 1, 1, 1, 1, 0, 1,\n",
       "       0, 0, 0, 1, 1, 1, 1, 1, 1, 1, 1, 1, 1, 1, 1, 0, 1, 0, 1, 1, 1, 1,\n",
       "       1, 1, 1, 0, 0, 1, 1, 1, 1, 1, 1, 0, 1, 1, 1, 1, 1, 1, 1, 1, 0, 1,\n",
       "       1, 1, 1, 0, 1, 1, 1, 0, 1, 0, 1, 1, 1, 1, 1, 1, 1, 0, 1, 1, 1, 1,\n",
       "       1, 1, 1, 1, 1, 0, 1, 1, 1, 0, 1, 1, 1, 1, 1, 1, 1, 1, 1, 1, 1, 1,\n",
       "       1, 1, 1, 1, 1, 1, 1, 1, 1, 1, 1, 1, 1, 1, 1, 1, 0, 1, 1, 1, 1, 0,\n",
       "       1, 0, 1, 1, 1, 1, 1, 1, 1, 1, 1, 1, 1, 1, 1, 1, 1, 1, 0, 1, 1, 0,\n",
       "       1, 0, 1, 0, 1, 1, 0, 1, 1, 1, 1, 1, 1, 1, 0, 1, 1, 1, 1, 1, 1, 1,\n",
       "       1, 1, 0, 1, 1, 1, 1, 1, 0, 1, 1, 1, 1, 1, 1, 1, 1, 1, 1, 1, 1, 1,\n",
       "       1, 1, 1, 0, 0, 1, 1, 1, 1, 1, 1, 0, 1, 1, 0, 1, 1, 0, 1, 1, 1, 1,\n",
       "       1, 1, 1, 1, 1, 1, 0, 1, 1, 1, 1, 1, 1, 0, 1, 1, 1, 1, 1, 1, 1, 1,\n",
       "       1, 1, 0, 1, 1, 1, 0, 1, 1, 1, 1, 0, 1, 0, 0, 1, 1, 1, 1, 1, 1, 1,\n",
       "       1, 1, 1, 1, 1, 1, 1, 1, 1, 1, 1, 1, 1, 0, 1, 1, 1, 1, 1, 1, 1, 1,\n",
       "       0, 1, 1, 0, 1, 1, 1, 0, 1, 1, 1, 0, 1, 1, 1, 1, 0, 1, 1, 1, 1, 1,\n",
       "       1, 1, 0, 1, 0, 1, 1, 1, 1, 1, 0, 1, 0, 1, 1, 1, 1, 0, 1, 1, 1, 1,\n",
       "       1, 0, 1])"
      ]
     },
     "execution_count": 213,
     "metadata": {},
     "output_type": "execute_result"
    }
   ],
   "source": [
    "npy\n",
    "# This is true y_label"
   ]
  },
  {
   "cell_type": "code",
   "execution_count": 214,
   "id": "e868c7f5-34df-45db-91ad-de4f2c806d24",
   "metadata": {},
   "outputs": [
    {
     "data": {
      "text/plain": [
       "array([1, 0, 1, 1, 1, 1, 1, 1, 1, 0, 1, 1, 0, 0, 1, 1, 1, 1, 1, 1, 0, 1,\n",
       "       0, 0, 0, 1, 1, 1, 1, 1, 1, 1, 1, 1, 1, 1, 1, 0, 1, 0, 1, 1, 1, 1,\n",
       "       1, 1, 1, 0, 0, 1, 1, 1, 1, 1, 1, 0, 1, 1, 1, 1, 1, 1, 0, 1, 0, 1,\n",
       "       1, 1, 1, 0, 0, 1, 1, 0, 0, 0, 1, 1, 1, 1, 1, 1, 1, 0, 1, 1, 1, 1,\n",
       "       1, 1, 1, 1, 1, 0, 1, 1, 1, 0, 1, 1, 1, 1, 1, 1, 1, 1, 1, 1, 1, 1,\n",
       "       1, 1, 1, 1, 1, 1, 1, 1, 1, 1, 1, 1, 1, 1, 1, 1, 0, 1, 1, 1, 1, 0,\n",
       "       1, 0, 1, 1, 1, 1, 1, 1, 1, 1, 1, 1, 1, 1, 1, 1, 1, 1, 0, 1, 1, 0,\n",
       "       1, 0, 1, 0, 1, 1, 0, 1, 1, 1, 1, 1, 1, 1, 0, 1, 1, 1, 1, 1, 1, 1,\n",
       "       1, 1, 0, 1, 1, 1, 1, 1, 0, 1, 1, 1, 0, 1, 1, 1, 1, 1, 1, 1, 1, 1,\n",
       "       1, 1, 1, 0, 0, 1, 1, 1, 1, 1, 1, 0, 1, 1, 0, 1, 1, 0, 1, 1, 1, 1,\n",
       "       1, 1, 1, 1, 1, 1, 0, 1, 1, 1, 1, 0, 1, 0, 1, 1, 1, 1, 1, 1, 1, 1,\n",
       "       1, 1, 0, 1, 1, 1, 0, 1, 1, 1, 1, 0, 1, 0, 0, 1, 1, 0, 1, 1, 1, 1,\n",
       "       1, 1, 1, 1, 1, 1, 1, 1, 1, 1, 1, 1, 1, 0, 1, 1, 1, 1, 1, 1, 1, 1,\n",
       "       0, 1, 1, 0, 1, 1, 1, 0, 1, 1, 1, 0, 0, 1, 1, 1, 0, 0, 1, 1, 1, 1,\n",
       "       1, 1, 0, 1, 0, 1, 1, 1, 1, 1, 0, 1, 0, 1, 1, 1, 1, 0, 1, 1, 1, 1,\n",
       "       1, 0, 1])"
      ]
     },
     "execution_count": 214,
     "metadata": {},
     "output_type": "execute_result"
    }
   ],
   "source": [
    "# Get predicted probabilities and convert to binary predictions\n",
    "y_pred_binary = [1 if pred >= 0.5 else 0 for pred in y_pred]\n",
    "#we need to find a threshold for the binarization of labels\n",
    "np.array(y_pred_binary)\n",
    "# This is predicted y_label"
   ]
  },
  {
   "cell_type": "code",
   "execution_count": 215,
   "id": "55c43088-e7d8-4eb1-9c49-64f48f773072",
   "metadata": {},
   "outputs": [
    {
     "name": "stdout",
     "output_type": "stream",
     "text": [
      "predicted N1 % is 0.8108108108108109\n",
      "actual N1 % is 0.8348348348348348\n"
     ]
    }
   ],
   "source": [
    "#Evaluation quality of prediction and labeling\n",
    "arrayY = np.array(y_pred_binary)\n",
    "print('predicted N1 % is',arrayY.sum()/len(arrayY))\n",
    "print('actual N1 % is',npy.sum()/len(npy))"
   ]
  },
  {
   "cell_type": "markdown",
   "id": "e2253694-3cd9-4894-9a8a-c9f3fdc79715",
   "metadata": {},
   "source": [
    "Our model is very preliminary, but functions really well. For furture directions, we can perform fine tuning. Some possible steps directions are:\n",
    "1. Adjust learing rate to avoid overfitting.\n",
    "2. Adujst penalty (L1, L2) on loss function.\n",
    "3. Change the architecture with shorter activation function.\n",
    "4. Batching."
   ]
  },
  {
   "cell_type": "code",
   "execution_count": null,
   "id": "f899d9d0-3b98-4dc8-97a1-52c847b35a7b",
   "metadata": {},
   "outputs": [],
   "source": []
  },
  {
   "cell_type": "code",
   "execution_count": null,
   "id": "c07158a7-9d18-47ee-9a35-204e0f16ff67",
   "metadata": {},
   "outputs": [],
   "source": []
  }
 ],
 "metadata": {
  "kernelspec": {
   "display_name": "Python 3.8",
   "language": "python",
   "name": "python3"
  },
  "language_info": {
   "codemirror_mode": {
    "name": "ipython",
    "version": 3
   },
   "file_extension": ".py",
   "mimetype": "text/x-python",
   "name": "python",
   "nbconvert_exporter": "python",
   "pygments_lexer": "ipython3",
   "version": "3.8.6"
  }
 },
 "nbformat": 4,
 "nbformat_minor": 5
}
