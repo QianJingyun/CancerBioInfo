{
 "cells": [
  {
   "cell_type": "code",
   "execution_count": 1,
   "id": "ab9bd9c1-9675-4feb-95e0-cd9905322a97",
   "metadata": {},
   "outputs": [],
   "source": [
    "import pandas as pd\n",
    "import numpy as np\n",
    "import matplotlib.pyplot as plt\n",
    "from sklearn.model_selection import train_test_split\n",
    "from sklearn.feature_selection import f_classif"
   ]
  },
  {
   "cell_type": "markdown",
   "id": "fdf6074a-7634-441f-b1eb-f0ff36893899",
   "metadata": {},
   "source": [
    "It is also very important to verify whether our procedures have achieved what we designed it to do. In this documents, we provided 2 approaches to compare and contrast our data with the paper"
   ]
  },
  {
   "cell_type": "code",
   "execution_count": 2,
   "id": "0d6cbddd-bb80-4a1a-a0e8-6d16d2c38345",
   "metadata": {},
   "outputs": [],
   "source": [
    "data = pd.read_csv('data_processed.csv')"
   ]
  },
  {
   "cell_type": "markdown",
   "id": "6f99ab50-9d12-412e-a1ab-c67366cd19b6",
   "metadata": {},
   "source": [
    "### 1. by the known list of features"
   ]
  },
  {
   "cell_type": "code",
   "execution_count": 3,
   "id": "eba3f46b-45d1-4570-9215-a0e6c4e34c2d",
   "metadata": {},
   "outputs": [
    {
     "data": {
      "text/plain": [
       "(417, 21)"
      ]
     },
     "execution_count": 3,
     "metadata": {},
     "output_type": "execute_result"
    }
   ],
   "source": [
    "tfeatures = ['M_SPAG1', 'M_PLEKHF2','M_RALGPS1','M_OMP', 'M_CTNNAL1','M_ZBTB34','M_ODF2','M_FKBP15','M_GOLGA1','M_CHAF1B',\n",
    "                'M_ORAOV1','M_ZNF174','M_C20ORF204','M_ZNF263','M_HIST1H2BI','M_NUP85','M_KIF18A','M_ARPC5L',\n",
    "             'M_ANKRD13D','M_ZBTB43','M_ABCA17P']\n",
    "ins = []\n",
    "for feature in tfeatures:\n",
    "    if feature in data:\n",
    "      ins.append(data[feature])\n",
    "ins = pd.DataFrame(ins).transpose()\n",
    "ins.shape"
   ]
  },
  {
   "cell_type": "markdown",
   "id": "28c30c39-2684-4ec5-9256-0c1c1cdd9f0c",
   "metadata": {},
   "source": [
    "### 2. by the Average Standardized log2 level (N1)"
   ]
  },
  {
   "cell_type": "code",
   "execution_count": 4,
   "id": "2d667f50-0ebc-49ae-8c74-c47010c651d8",
   "metadata": {},
   "outputs": [],
   "source": [
    "N1 = data[data['PATH_N_STAGE'] == 1.0]\n",
    "N0 = data[data['PATH_N_STAGE'] == 2.0]"
   ]
  },
  {
   "cell_type": "code",
   "execution_count": 5,
   "id": "08fd2a58-3cdf-4c04-b51a-74b2662b8476",
   "metadata": {},
   "outputs": [],
   "source": [
    "meansN1 = []\n",
    "meansN0 = []\n",
    "for feature in tfeatures:\n",
    "    meansN1.append(N1[feature].mean())\n",
    "    meansN0.append(N0[feature].mean())"
   ]
  },
  {
   "cell_type": "code",
   "execution_count": 6,
   "id": "54aafbbc-eb1b-432e-b58b-730ede123f0e",
   "metadata": {},
   "outputs": [],
   "source": [
    "df = {'Gene': tfeatures,\n",
    "        'Average (N1)': meansN1,\n",
    "        'Average (N0)': meansN0}\n",
    "\n",
    "# convert the dictionary to a dataframe\n",
    "table = pd.DataFrame(df)"
   ]
  },
  {
   "cell_type": "code",
   "execution_count": 7,
   "id": "f89afaa9-6ded-4a7d-a591-68b485417a95",
   "metadata": {},
   "outputs": [
    {
     "data": {
      "text/html": [
       "<div>\n",
       "<style scoped>\n",
       "    .dataframe tbody tr th:only-of-type {\n",
       "        vertical-align: middle;\n",
       "    }\n",
       "\n",
       "    .dataframe tbody tr th {\n",
       "        vertical-align: top;\n",
       "    }\n",
       "\n",
       "    .dataframe thead th {\n",
       "        text-align: right;\n",
       "    }\n",
       "</style>\n",
       "<table border=\"1\" class=\"dataframe\">\n",
       "  <thead>\n",
       "    <tr style=\"text-align: right;\">\n",
       "      <th></th>\n",
       "      <th>Gene</th>\n",
       "      <th>Average (N1)</th>\n",
       "      <th>Average (N0)</th>\n",
       "    </tr>\n",
       "  </thead>\n",
       "  <tbody>\n",
       "    <tr>\n",
       "      <th>0</th>\n",
       "      <td>M_SPAG1</td>\n",
       "      <td>1.475490</td>\n",
       "      <td>0.229783</td>\n",
       "    </tr>\n",
       "    <tr>\n",
       "      <th>1</th>\n",
       "      <td>M_PLEKHF2</td>\n",
       "      <td>1.298871</td>\n",
       "      <td>0.287055</td>\n",
       "    </tr>\n",
       "    <tr>\n",
       "      <th>2</th>\n",
       "      <td>M_RALGPS1</td>\n",
       "      <td>1.233461</td>\n",
       "      <td>0.121630</td>\n",
       "    </tr>\n",
       "    <tr>\n",
       "      <th>3</th>\n",
       "      <td>M_OMP</td>\n",
       "      <td>1.198101</td>\n",
       "      <td>0.020145</td>\n",
       "    </tr>\n",
       "    <tr>\n",
       "      <th>4</th>\n",
       "      <td>M_CTNNAL1</td>\n",
       "      <td>1.180699</td>\n",
       "      <td>0.074221</td>\n",
       "    </tr>\n",
       "    <tr>\n",
       "      <th>5</th>\n",
       "      <td>M_ZBTB34</td>\n",
       "      <td>1.089381</td>\n",
       "      <td>0.155228</td>\n",
       "    </tr>\n",
       "    <tr>\n",
       "      <th>6</th>\n",
       "      <td>M_ODF2</td>\n",
       "      <td>1.020451</td>\n",
       "      <td>0.078641</td>\n",
       "    </tr>\n",
       "    <tr>\n",
       "      <th>7</th>\n",
       "      <td>M_FKBP15</td>\n",
       "      <td>1.014252</td>\n",
       "      <td>0.117141</td>\n",
       "    </tr>\n",
       "    <tr>\n",
       "      <th>8</th>\n",
       "      <td>M_GOLGA1</td>\n",
       "      <td>1.000230</td>\n",
       "      <td>0.091729</td>\n",
       "    </tr>\n",
       "    <tr>\n",
       "      <th>9</th>\n",
       "      <td>M_CHAF1B</td>\n",
       "      <td>0.874740</td>\n",
       "      <td>0.004969</td>\n",
       "    </tr>\n",
       "    <tr>\n",
       "      <th>10</th>\n",
       "      <td>M_ORAOV1</td>\n",
       "      <td>0.957443</td>\n",
       "      <td>0.056144</td>\n",
       "    </tr>\n",
       "    <tr>\n",
       "      <th>11</th>\n",
       "      <td>M_ZNF174</td>\n",
       "      <td>0.788356</td>\n",
       "      <td>-0.016991</td>\n",
       "    </tr>\n",
       "    <tr>\n",
       "      <th>12</th>\n",
       "      <td>M_C20ORF204</td>\n",
       "      <td>0.746105</td>\n",
       "      <td>-0.044388</td>\n",
       "    </tr>\n",
       "    <tr>\n",
       "      <th>13</th>\n",
       "      <td>M_ZNF263</td>\n",
       "      <td>0.835714</td>\n",
       "      <td>0.017543</td>\n",
       "    </tr>\n",
       "    <tr>\n",
       "      <th>14</th>\n",
       "      <td>M_HIST1H2BI</td>\n",
       "      <td>0.616551</td>\n",
       "      <td>-0.088149</td>\n",
       "    </tr>\n",
       "    <tr>\n",
       "      <th>15</th>\n",
       "      <td>M_NUP85</td>\n",
       "      <td>0.645087</td>\n",
       "      <td>-0.021537</td>\n",
       "    </tr>\n",
       "    <tr>\n",
       "      <th>16</th>\n",
       "      <td>M_KIF18A</td>\n",
       "      <td>0.639288</td>\n",
       "      <td>-0.010682</td>\n",
       "    </tr>\n",
       "    <tr>\n",
       "      <th>17</th>\n",
       "      <td>M_ARPC5L</td>\n",
       "      <td>0.728587</td>\n",
       "      <td>0.019449</td>\n",
       "    </tr>\n",
       "    <tr>\n",
       "      <th>18</th>\n",
       "      <td>M_ANKRD13D</td>\n",
       "      <td>0.805857</td>\n",
       "      <td>0.037891</td>\n",
       "    </tr>\n",
       "    <tr>\n",
       "      <th>19</th>\n",
       "      <td>M_ZBTB43</td>\n",
       "      <td>0.968079</td>\n",
       "      <td>0.115718</td>\n",
       "    </tr>\n",
       "    <tr>\n",
       "      <th>20</th>\n",
       "      <td>M_ABCA17P</td>\n",
       "      <td>1.523552</td>\n",
       "      <td>0.135092</td>\n",
       "    </tr>\n",
       "  </tbody>\n",
       "</table>\n",
       "</div>"
      ],
      "text/plain": [
       "           Gene  Average (N1)  Average (N0)\n",
       "0       M_SPAG1      1.475490      0.229783\n",
       "1     M_PLEKHF2      1.298871      0.287055\n",
       "2     M_RALGPS1      1.233461      0.121630\n",
       "3         M_OMP      1.198101      0.020145\n",
       "4     M_CTNNAL1      1.180699      0.074221\n",
       "5      M_ZBTB34      1.089381      0.155228\n",
       "6        M_ODF2      1.020451      0.078641\n",
       "7      M_FKBP15      1.014252      0.117141\n",
       "8      M_GOLGA1      1.000230      0.091729\n",
       "9      M_CHAF1B      0.874740      0.004969\n",
       "10     M_ORAOV1      0.957443      0.056144\n",
       "11     M_ZNF174      0.788356     -0.016991\n",
       "12  M_C20ORF204      0.746105     -0.044388\n",
       "13     M_ZNF263      0.835714      0.017543\n",
       "14  M_HIST1H2BI      0.616551     -0.088149\n",
       "15      M_NUP85      0.645087     -0.021537\n",
       "16     M_KIF18A      0.639288     -0.010682\n",
       "17     M_ARPC5L      0.728587      0.019449\n",
       "18   M_ANKRD13D      0.805857      0.037891\n",
       "19     M_ZBTB43      0.968079      0.115718\n",
       "20    M_ABCA17P      1.523552      0.135092"
      ]
     },
     "execution_count": 7,
     "metadata": {},
     "output_type": "execute_result"
    }
   ],
   "source": [
    "table"
   ]
  },
  {
   "cell_type": "code",
   "execution_count": null,
   "id": "6667aec7-03d8-4057-b7db-8e85dac27a83",
   "metadata": {},
   "outputs": [],
   "source": []
  }
 ],
 "metadata": {
  "kernelspec": {
   "display_name": "Python 3.8",
   "language": "python",
   "name": "python3"
  },
  "language_info": {
   "codemirror_mode": {
    "name": "ipython",
    "version": 3
   },
   "file_extension": ".py",
   "mimetype": "text/x-python",
   "name": "python",
   "nbconvert_exporter": "python",
   "pygments_lexer": "ipython3",
   "version": "3.8.6"
  }
 },
 "nbformat": 4,
 "nbformat_minor": 5
}
